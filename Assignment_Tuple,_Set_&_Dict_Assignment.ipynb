{
  "cells": [
    {
      "cell_type": "markdown",
      "metadata": {
        "id": "view-in-github",
        "colab_type": "text"
      },
      "source": [
        "<a href=\"https://colab.research.google.com/github/Spatro123/Python/blob/main/Assignment_Tuple%2C_Set_%26_Dict_Assignment.ipynb\" target=\"_parent\"><img src=\"https://colab.research.google.com/assets/colab-badge.svg\" alt=\"Open In Colab\"/></a>"
      ]
    },
    {
      "cell_type": "markdown",
      "id": "c1aca3b5",
      "metadata": {
        "id": "c1aca3b5"
      },
      "source": [
        "## Q1. What are the characteristics of the tuples? Is tuple immutable?"
      ]
    },
    {
      "cell_type": "markdown",
      "id": "1ef72bd1",
      "metadata": {
        "id": "1ef72bd1"
      },
      "source": [
        "**Characteristics of Tuples:**\n",
        "1. Tuples are **ordered** collections.\n",
        "2. Tuples can contain **heterogeneous data types**.\n",
        "3. Tuples allow **duplicate elements**.\n",
        "4. Tuples are **indexed** (elements can be accessed via index numbers).\n",
        "5. Tuples are **immutable** (cannot be modified after creation).\n",
        "6. Tuples are **hashable** if they contain only immutable elements.\n",
        "\n",
        "✅ **Yes, Tuples are immutable.**"
      ]
    },
    {
      "cell_type": "code",
      "execution_count": null,
      "id": "c3c789ca",
      "metadata": {
        "id": "c3c789ca"
      },
      "outputs": [],
      "source": [
        "tup = (1, 2, 3, 4)\n",
        "print(tup[0])   # Access element\n",
        "# tup[0] = 10   # ❌ Error: 'tuple' object does not support item assignment"
      ]
    },
    {
      "cell_type": "markdown",
      "id": "2d290ae1",
      "metadata": {
        "id": "2d290ae1"
      },
      "source": [
        "## Q2. What are the two tuple methods in Python?"
      ]
    },
    {
      "cell_type": "markdown",
      "id": "368645d5",
      "metadata": {
        "id": "368645d5"
      },
      "source": [
        "Tuples only have **two built-in methods**:\n",
        "\n",
        "1. **count(value)** → Returns the number of times a value appears in the tuple.  \n",
        "2. **index(value)** → Returns the index of the first occurrence of the value.\n",
        "\n",
        "🔹 **Reason:** Tuples are immutable, so they only support query-based methods."
      ]
    },
    {
      "cell_type": "code",
      "execution_count": null,
      "id": "22f9a9f1",
      "metadata": {
        "id": "22f9a9f1"
      },
      "outputs": [],
      "source": [
        "tup = (1, 2, 3, 2, 4, 2, 5)\n",
        "print(tup.count(2))   # Output: 3\n",
        "print(tup.index(4))   # Output: 4"
      ]
    },
    {
      "cell_type": "markdown",
      "id": "3ab16059",
      "metadata": {
        "id": "3ab16059"
      },
      "source": [
        "## Q3. Which collection datatypes in Python do not allow duplicate items?"
      ]
    },
    {
      "cell_type": "markdown",
      "id": "6d00af39",
      "metadata": {
        "id": "6d00af39"
      },
      "source": [
        "- **Set** and **Dictionary (keys)** do not allow duplicate items.\n",
        "\n",
        "**Remove duplicates from list using a set:**"
      ]
    },
    {
      "cell_type": "code",
      "execution_count": null,
      "id": "9f9e1828",
      "metadata": {
        "id": "9f9e1828"
      },
      "outputs": [],
      "source": [
        "List = [1, 1, 1, 2, 1, 3, 1, 4, 2, 1, 2, 2, 2, 3, 2, 4, 3, 1, 3, 2, 3, 3, 3, 4, 4, 1, 4, 2, 4, 3, 4, 4]\n",
        "unique_items = list(set(List))\n",
        "print(unique_items)"
      ]
    },
    {
      "cell_type": "markdown",
      "id": "522b0bb7",
      "metadata": {
        "id": "522b0bb7"
      },
      "source": [
        "## Q4. Difference between union() and update() in Sets"
      ]
    },
    {
      "cell_type": "markdown",
      "id": "59faa689",
      "metadata": {
        "id": "59faa689"
      },
      "source": [
        "- **union()** → Returns a **new set** containing elements from both sets.  \n",
        "- **update()** → Updates the **original set** with elements from another set."
      ]
    },
    {
      "cell_type": "code",
      "execution_count": null,
      "id": "cb2adf53",
      "metadata": {
        "id": "cb2adf53"
      },
      "outputs": [],
      "source": [
        "A = {1, 2, 3}\n",
        "B = {3, 4, 5}\n",
        "\n",
        "print(A.union(B))  # {1, 2, 3, 4, 5} → New set\n",
        "print(A)           # {1, 2, 3} (unchanged)\n",
        "\n",
        "A.update(B)\n",
        "print(A)           # {1, 2, 3, 4, 5} (modified)"
      ]
    },
    {
      "cell_type": "markdown",
      "id": "79fd42b7",
      "metadata": {
        "id": "79fd42b7"
      },
      "source": [
        "## Q5. What is a dictionary?"
      ]
    },
    {
      "cell_type": "markdown",
      "id": "e7d81a12",
      "metadata": {
        "id": "e7d81a12"
      },
      "source": [
        "- A **dictionary** is a collection of **key-value pairs**.  \n",
        "- Keys are **unique and immutable**, values can be **any type**.  \n",
        "- **In Python 3.7+, dictionaries are ordered.**"
      ]
    },
    {
      "cell_type": "code",
      "execution_count": null,
      "id": "82a236df",
      "metadata": {
        "id": "82a236df"
      },
      "outputs": [],
      "source": [
        "student = {'name': 'Rahul', 'age': 21, 'course': 'B.Com'}\n",
        "print(student['name'])  # Rahul"
      ]
    },
    {
      "cell_type": "markdown",
      "id": "3ac159e9",
      "metadata": {
        "id": "3ac159e9"
      },
      "source": [
        "## Q6. Can we create a nested dictionary?"
      ]
    },
    {
      "cell_type": "markdown",
      "id": "48c014ec",
      "metadata": {
        "id": "48c014ec"
      },
      "source": [
        "✅ Yes, a dictionary can contain another dictionary as a value."
      ]
    },
    {
      "cell_type": "code",
      "execution_count": null,
      "id": "bfdd0adf",
      "metadata": {
        "id": "bfdd0adf"
      },
      "outputs": [],
      "source": [
        "nested_dict = {\n",
        "    'student1': {'name': 'Rahul', 'age': 21},\n",
        "    'student2': {'name': 'Anita', 'age': 22}\n",
        "}\n",
        "print(nested_dict['student1']['name'])  # Rahul"
      ]
    },
    {
      "cell_type": "markdown",
      "id": "6f5901c5",
      "metadata": {
        "id": "6f5901c5"
      },
      "source": [
        "## Q7. Using setdefault() method"
      ]
    },
    {
      "cell_type": "code",
      "execution_count": null,
      "id": "685f348e",
      "metadata": {
        "id": "685f348e"
      },
      "outputs": [],
      "source": [
        "dict1 = {'language': 'Python', 'course': 'Data Science Masters'}\n",
        "dict1.setdefault('topics', ['Python', 'Machine Learning', 'Deep Learning'])\n",
        "print(dict1)"
      ]
    },
    {
      "cell_type": "markdown",
      "id": "a2b62b49",
      "metadata": {
        "id": "a2b62b49"
      },
      "source": [
        "## Q8. Three view objects in dictionaries"
      ]
    },
    {
      "cell_type": "markdown",
      "id": "0406139f",
      "metadata": {
        "id": "0406139f"
      },
      "source": [
        "Dictionaries provide **3 view objects**:\n",
        "1. **dict.keys()** → Returns all keys.  \n",
        "2. **dict.values()** → Returns all values.  \n",
        "3. **dict.items()** → Returns key-value pairs as tuples."
      ]
    },
    {
      "cell_type": "code",
      "execution_count": null,
      "id": "9958ce3b",
      "metadata": {
        "id": "9958ce3b"
      },
      "outputs": [],
      "source": [
        "dict1 = {\n",
        "    'Sport': 'Cricket',\n",
        "    'Teams': ['India', 'Australia', 'England', 'South Africa', 'Sri Lanka', 'New Zealand']\n",
        "}\n",
        "\n",
        "print(dict1.keys())\n",
        "print(dict1.values())\n",
        "print(dict1.items())"
      ]
    }
  ],
  "metadata": {
    "colab": {
      "provenance": [],
      "include_colab_link": true
    }
  },
  "nbformat": 4,
  "nbformat_minor": 5
}