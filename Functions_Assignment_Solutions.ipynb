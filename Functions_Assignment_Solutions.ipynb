{
  "cells": [
    {
      "cell_type": "markdown",
      "metadata": {
        "id": "view-in-github",
        "colab_type": "text"
      },
      "source": [
        "<a href=\"https://colab.research.google.com/github/Spatro123/Python/blob/Assignment2/Functions_Assignment_Solutions.ipynb\" target=\"_parent\"><img src=\"https://colab.research.google.com/assets/colab-badge.svg\" alt=\"Open In Colab\"/></a>"
      ]
    },
    {
      "cell_type": "markdown",
      "id": "4f7cf0ec",
      "metadata": {
        "id": "4f7cf0ec"
      },
      "source": [
        "### 1. Difference between a function and a method\n",
        "\n",
        "\n",
        "**Function**: A block of reusable code.\n",
        "\n",
        "```python\n",
        "def add(a, b):\n",
        "    return a + b\n",
        "print(add(3, 4))  # 7\n",
        "```\n",
        "\n",
        "**Method**: A function associated with an object.\n",
        "\n",
        "```python\n",
        "text = \"hello\"\n",
        "print(text.upper())  # HELLO\n",
        "```"
      ]
    },
    {
      "cell_type": "markdown",
      "id": "22cf0fc5",
      "metadata": {
        "id": "22cf0fc5"
      },
      "source": [
        "### 2. Function arguments and parameters\n",
        "```python\n",
        "def greet(name):  # parameter\n",
        "    print(\"Hello\", name)\n",
        "\n",
        "greet(\"Sagar\")   # argument\n",
        "```"
      ]
    },
    {
      "cell_type": "markdown",
      "id": "7f15a606",
      "metadata": {
        "id": "7f15a606"
      },
      "source": [
        "### 3. Ways to define and call a function\n",
        "\n",
        "```python\n",
        "def say_hello():\n",
        "    print(\"Hello\")\n",
        "say_hello()\n",
        "\n",
        "def add(a, b):\n",
        "    return a + b\n",
        "print(add(5, 10))\n",
        "\n",
        "square = lambda x: x*x\n",
        "print(square(4))\n",
        "```"
      ]
    },
    {
      "cell_type": "markdown",
      "id": "bee1f40e",
      "metadata": {
        "id": "bee1f40e"
      },
      "source": [
        "### 4. Purpose of return statement\n",
        "```python\n",
        "def multiply(a, b):\n",
        "    return a * b\n",
        "\n",
        "result = multiply(3, 5)\n",
        "print(result)  # 15\n",
        "```"
      ]
    },
    {
      "cell_type": "markdown",
      "id": "54bcc8d4",
      "metadata": {
        "id": "54bcc8d4"
      },
      "source": [
        "### 5. Iterators vs Iterables\n",
        "\n",
        "```python\n",
        "nums = [1, 2, 3]    # iterable\n",
        "it = iter(nums)     # iterator\n",
        "print(next(it))  # 1\n",
        "print(next(it))  # 2\n",
        "```"
      ]
    },
    {
      "cell_type": "markdown",
      "id": "0f040948",
      "metadata": {
        "id": "0f040948"
      },
      "source": [
        "### 6. Generators\n",
        "\n",
        "```python\n",
        "def countdown(n):\n",
        "    while n > 0:\n",
        "        yield n\n",
        "        n -= 1\n",
        "\n",
        "for num in countdown(3):\n",
        "    print(num)  # 3 2 1\n",
        "```"
      ]
    },
    {
      "cell_type": "markdown",
      "id": "f5fa8325",
      "metadata": {
        "id": "f5fa8325"
      },
      "source": [
        "### 7. Advantages of generators\n",
        "- Save memory\n",
        "- Lazy evaluation\n",
        "- Good for large datasets"
      ]
    },
    {
      "cell_type": "markdown",
      "id": "83c4a301",
      "metadata": {
        "id": "83c4a301"
      },
      "source": [
        "### 8. Lambda function\n",
        "```python\n",
        "square = lambda x: x**2\n",
        "print(square(5))  # 25\n",
        "```"
      ]
    },
    {
      "cell_type": "markdown",
      "id": "08989984",
      "metadata": {
        "id": "08989984"
      },
      "source": [
        "### 9. Purpose of map()\n",
        "\n",
        "```python\n",
        "nums = [1, 2, 3]\n",
        "squares = list(map(lambda x: x*x, nums))\n",
        "print(squares)  # [1, 4, 9]\n",
        "```"
      ]
    },
    {
      "cell_type": "markdown",
      "id": "9d060318",
      "metadata": {
        "id": "9d060318"
      },
      "source": [
        "### 10. Difference between map(), reduce(), and filter()\n",
        "\n",
        "```python\n",
        "from functools import reduce\n",
        "nums = [1, 2, 3, 4]\n",
        "\n",
        "print(list(map(lambda x: x*x, nums)))      # [1, 4, 9, 16]\n",
        "print(list(filter(lambda x: x%2==0, nums)))# [2, 4]\n",
        "print(reduce(lambda a,b: a+b, nums))       # 10\n",
        "```"
      ]
    },
    {
      "cell_type": "markdown",
      "id": "23802955",
      "metadata": {
        "id": "23802955"
      },
      "source": [
        "### 11. Internal mechanism of reduce sum on [47,11,42,13]\n",
        "\n",
        "Step 1: 47+11 = 58\n",
        "\n",
        "Step 2: 58+42 = 100\n",
        "\n",
        "Step 3: 100+13 = 113\n",
        "\n",
        "**Final Result = 113**"
      ]
    },
    {
      "cell_type": "markdown",
      "id": "c6f3ff0f",
      "metadata": {
        "id": "c6f3ff0f"
      },
      "source": [
        "### 1. Sum of even numbers\n"
      ]
    },
    {
      "cell_type": "code",
      "source": [
        "def sum_even(nums):\n",
        "    return sum(n for n in nums if n % 2 == 0)\n",
        "\n",
        "sum_even([1,2,3,4,5,6])"
      ],
      "metadata": {
        "colab": {
          "base_uri": "https://localhost:8080/"
        },
        "id": "1g1oWcCrZvbG",
        "outputId": "7ed19eb0-26c8-4fa3-f2ab-d8819ba004c3"
      },
      "id": "1g1oWcCrZvbG",
      "execution_count": 7,
      "outputs": [
        {
          "output_type": "execute_result",
          "data": {
            "text/plain": [
              "12"
            ]
          },
          "metadata": {},
          "execution_count": 7
        }
      ]
    },
    {
      "cell_type": "markdown",
      "id": "a966547f",
      "metadata": {
        "id": "a966547f"
      },
      "source": [
        "### 2. Reverse a string"
      ]
    },
    {
      "cell_type": "code",
      "execution_count": null,
      "id": "85beb6ae",
      "metadata": {
        "id": "85beb6ae"
      },
      "outputs": [],
      "source": [
        "def reverse_string(s):\n",
        "    return s[::-1]\n",
        "\n",
        "reverse_string(\"hello\")"
      ]
    },
    {
      "cell_type": "markdown",
      "id": "d005b5c8",
      "metadata": {
        "id": "d005b5c8"
      },
      "source": [
        "### 3. Squares of numbers"
      ]
    },
    {
      "cell_type": "code",
      "execution_count": 5,
      "id": "e1904541",
      "metadata": {
        "colab": {
          "base_uri": "https://localhost:8080/"
        },
        "id": "e1904541",
        "outputId": "828cce1b-04f9-406d-966e-b9d6d11e5275"
      },
      "outputs": [
        {
          "output_type": "execute_result",
          "data": {
            "text/plain": [
              "[1, 4, 9]"
            ]
          },
          "metadata": {},
          "execution_count": 5
        }
      ],
      "source": [
        "def squares_list(nums):\n",
        "    return [n**2 for n in nums]\n",
        "\n",
        "squares_list([1,2,3])"
      ]
    },
    {
      "cell_type": "markdown",
      "id": "1cee3985",
      "metadata": {
        "id": "1cee3985"
      },
      "source": [
        "### 4. Prime check (1–200)"
      ]
    },
    {
      "cell_type": "code",
      "execution_count": 6,
      "id": "f8ea9685",
      "metadata": {
        "colab": {
          "base_uri": "https://localhost:8080/"
        },
        "collapsed": true,
        "id": "f8ea9685",
        "outputId": "bbf52eaa-0fd1-47e4-ba9e-8bb0796376c5"
      },
      "outputs": [
        {
          "output_type": "execute_result",
          "data": {
            "text/plain": [
              "[2,\n",
              " 3,\n",
              " 5,\n",
              " 7,\n",
              " 11,\n",
              " 13,\n",
              " 17,\n",
              " 19,\n",
              " 23,\n",
              " 29,\n",
              " 31,\n",
              " 37,\n",
              " 41,\n",
              " 43,\n",
              " 47,\n",
              " 53,\n",
              " 59,\n",
              " 61,\n",
              " 67,\n",
              " 71,\n",
              " 73,\n",
              " 79,\n",
              " 83,\n",
              " 89,\n",
              " 97,\n",
              " 101,\n",
              " 103,\n",
              " 107,\n",
              " 109,\n",
              " 113,\n",
              " 127,\n",
              " 131,\n",
              " 137,\n",
              " 139,\n",
              " 149,\n",
              " 151,\n",
              " 157,\n",
              " 163,\n",
              " 167,\n",
              " 173,\n",
              " 179,\n",
              " 181,\n",
              " 191,\n",
              " 193,\n",
              " 197,\n",
              " 199]"
            ]
          },
          "metadata": {},
          "execution_count": 6
        }
      ],
      "source": [
        "def is_prime(n):\n",
        "    if n < 2: return False\n",
        "    for i in range(2, int(n**0.5)+1):\n",
        "        if n % i == 0:\n",
        "            return False\n",
        "    return True\n",
        "\n",
        "[n for n in range(1,201) if is_prime(n)]"
      ]
    },
    {
      "cell_type": "markdown",
      "id": "f5798b95",
      "metadata": {
        "id": "f5798b95"
      },
      "source": [
        "### 5. Fibonacci iterator class"
      ]
    },
    {
      "cell_type": "code",
      "execution_count": null,
      "id": "f1eee693",
      "metadata": {
        "id": "f1eee693"
      },
      "outputs": [],
      "source": [
        "class Fibonacci:\n",
        "    def __init__(self, limit):\n",
        "        self.limit = limit\n",
        "        self.a, self.b, self.count = 0, 1, 0\n",
        "\n",
        "    def __iter__(self):\n",
        "        return self\n",
        "\n",
        "    def __next__(self):\n",
        "        if self.count >= self.limit:\n",
        "            raise StopIteration\n",
        "        self.count += 1\n",
        "        self.a, self.b = self.b, self.a + self.b\n",
        "        return self.a\n",
        "\n",
        "list(Fibonacci(10))"
      ]
    },
    {
      "cell_type": "markdown",
      "id": "0130a6d1",
      "metadata": {
        "id": "0130a6d1"
      },
      "source": [
        "### 6. Generator: powers of 2"
      ]
    },
    {
      "cell_type": "code",
      "execution_count": null,
      "id": "a5d499e4",
      "metadata": {
        "id": "a5d499e4"
      },
      "outputs": [],
      "source": [
        "def powers_of_two(n):\n",
        "    for i in range(n+1):\n",
        "        yield 2**i\n",
        "\n",
        "list(powers_of_two(5))"
      ]
    },
    {
      "cell_type": "markdown",
      "id": "14df9333",
      "metadata": {
        "id": "14df9333"
      },
      "source": [
        "### 7. File line generator"
      ]
    },
    {
      "cell_type": "code",
      "execution_count": null,
      "id": "4ee5aa55",
      "metadata": {
        "id": "4ee5aa55"
      },
      "outputs": [],
      "source": [
        "def read_file(filename):\n",
        "    with open(filename) as f:\n",
        "        for line in f:\n",
        "            yield line.strip()"
      ]
    },
    {
      "cell_type": "markdown",
      "id": "371877ec",
      "metadata": {
        "id": "371877ec"
      },
      "source": [
        "### 8. Lambda: sort list of tuples"
      ]
    },
    {
      "cell_type": "code",
      "execution_count": null,
      "id": "f38257c8",
      "metadata": {
        "id": "f38257c8"
      },
      "outputs": [],
      "source": [
        "data = [(1,5),(2,3),(3,8)]\n",
        "sorted(data, key=lambda x: x[1])"
      ]
    },
    {
      "cell_type": "markdown",
      "id": "1e6961f5",
      "metadata": {
        "id": "1e6961f5"
      },
      "source": [
        "### 9. Map: Celsius → Fahrenheit"
      ]
    },
    {
      "cell_type": "code",
      "execution_count": null,
      "id": "39f8ecbe",
      "metadata": {
        "id": "39f8ecbe"
      },
      "outputs": [],
      "source": [
        "temps_c = [0, 20, 30]\n",
        "list(map(lambda c: (c*9/5)+32, temps_c))"
      ]
    },
    {
      "cell_type": "markdown",
      "id": "2d7e6e18",
      "metadata": {
        "id": "2d7e6e18"
      },
      "source": [
        "### 10. Filter: remove vowels"
      ]
    },
    {
      "cell_type": "code",
      "execution_count": null,
      "id": "73ba2421",
      "metadata": {
        "id": "73ba2421"
      },
      "outputs": [],
      "source": [
        "s = \"hello world\"\n",
        "\"\".join(filter(lambda ch: ch.lower() not in \"aeiou\", s))"
      ]
    },
    {
      "cell_type": "markdown",
      "id": "074e3bd5",
      "metadata": {
        "id": "074e3bd5"
      },
      "source": [
        "### 11. Bookshop accounting with map + lambda"
      ]
    },
    {
      "cell_type": "code",
      "execution_count": null,
      "id": "c4c51e9b",
      "metadata": {
        "id": "c4c51e9b"
      },
      "outputs": [],
      "source": [
        "orders = [\n",
        "    [34587, \"Learning Python\", 4, 40.95],\n",
        "    [98762, \"Programming in C\", 3, 50.00],\n",
        "    [77226, \"Java Fundamentals\", 1, 25.50]\n",
        "]\n",
        "\n",
        "list(map(lambda x: (x[0], x[2]*x[3] if x[2]*x[3]>=100 else x[2]*x[3]+10), orders))"
      ]
    }
  ],
  "metadata": {
    "colab": {
      "provenance": [],
      "include_colab_link": true
    },
    "language_info": {
      "name": "python"
    },
    "kernelspec": {
      "name": "python3",
      "display_name": "Python 3"
    }
  },
  "nbformat": 4,
  "nbformat_minor": 5
}