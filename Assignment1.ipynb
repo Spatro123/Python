{
  "nbformat": 4,
  "nbformat_minor": 0,
  "metadata": {
    "colab": {
      "provenance": [],
      "toc_visible": true,
      "authorship_tag": "ABX9TyMsaj9jXX0sZUJDt/96ORb/",
      "include_colab_link": true
    },
    "kernelspec": {
      "name": "python3",
      "display_name": "Python 3"
    },
    "language_info": {
      "name": "python"
    }
  },
  "cells": [
    {
      "cell_type": "markdown",
      "metadata": {
        "id": "view-in-github",
        "colab_type": "text"
      },
      "source": [
        "<a href=\"https://colab.research.google.com/github/Spatro123/Python/blob/main/Assignment1.ipynb\" target=\"_parent\"><img src=\"https://colab.research.google.com/assets/colab-badge.svg\" alt=\"Open In Colab\"/></a>"
      ]
    },
    {
      "cell_type": "code",
      "execution_count": null,
      "metadata": {
        "colab": {
          "base_uri": "https://localhost:8080/"
        },
        "id": "HOKtVf4rExjP",
        "outputId": "3a052820-fca3-4b8e-adfd-23c60e8cc645"
      },
      "outputs": [
        {
          "output_type": "stream",
          "name": "stdout",
          "text": [
            "Hello, World\n"
          ]
        }
      ],
      "source": [
        "print(\"Hello, World\")"
      ]
    },
    {
      "cell_type": "code",
      "source": [
        "name = \"Sagar\"\n",
        "age = 28\n",
        "\n",
        "result = \"My name is {name} my age is {age}\".format(name=name, age=age)\n",
        "print(result)"
      ],
      "metadata": {
        "colab": {
          "base_uri": "https://localhost:8080/"
        },
        "id": "o5-mIxfRKaC_",
        "outputId": "e25e1c44-7d91-46d2-fb5c-8869eb997ab4"
      },
      "execution_count": null,
      "outputs": [
        {
          "output_type": "stream",
          "name": "stdout",
          "text": [
            "My name is Sagar my age is 28\n"
          ]
        }
      ]
    },
    {
      "cell_type": "markdown",
      "source": [],
      "metadata": {
        "id": "JF37-rHjGzcG"
      }
    },
    {
      "cell_type": "code",
      "source": [
        "import keyword\n",
        "\n",
        "print(\"Python Keywords:\")\n",
        "for kw in keyword.kwlist:\n",
        "    print(kw)\n"
      ],
      "metadata": {
        "colab": {
          "base_uri": "https://localhost:8080/"
        },
        "id": "ZKKvTcR6HjXT",
        "outputId": "65d40727-5039-4928-e684-7a3631da2131"
      },
      "execution_count": null,
      "outputs": [
        {
          "output_type": "stream",
          "name": "stdout",
          "text": [
            "Python Keywords:\n",
            "False\n",
            "None\n",
            "True\n",
            "and\n",
            "as\n",
            "assert\n",
            "async\n",
            "await\n",
            "break\n",
            "class\n",
            "continue\n",
            "def\n",
            "del\n",
            "elif\n",
            "else\n",
            "except\n",
            "finally\n",
            "for\n",
            "from\n",
            "global\n",
            "if\n",
            "import\n",
            "in\n",
            "is\n",
            "lambda\n",
            "nonlocal\n",
            "not\n",
            "or\n",
            "pass\n",
            "raise\n",
            "return\n",
            "try\n",
            "while\n",
            "with\n",
            "yield\n"
          ]
        }
      ]
    },
    {
      "cell_type": "markdown",
      "source": [
        "# New section"
      ],
      "metadata": {
        "id": "Vxum2cS3Xw_B"
      }
    },
    {
      "cell_type": "code",
      "source": [
        "import keyword\n",
        "\n",
        "word = input(\"Enter a word: \")\n",
        "\n",
        "if word in keyword.kwlist:\n",
        "    print(f\"'{word}' is a Python keyword.\")\n",
        "else:\n",
        "    print(f\"'{word}' is not a Python keyword.\")"
      ],
      "metadata": {
        "colab": {
          "base_uri": "https://localhost:8080/"
        },
        "id": "6Ytgj-XSLpdF",
        "outputId": "98aeb743-4a21-4eb8-acef-7112a9844dff"
      },
      "execution_count": null,
      "outputs": [
        {
          "output_type": "stream",
          "name": "stdout",
          "text": [
            "Enter a word: class\n",
            "'class' is a Python keyword.\n"
          ]
        }
      ]
    },
    {
      "cell_type": "code",
      "source": [
        "\n",
        "my_list = [10, 20, 30]\n",
        "print(\"Original list:\", my_list)\n",
        "my_list[1] = 50\n",
        "print(\"Modified list:\", my_list)\n",
        "\n",
        "\n",
        "my_tuple = (10, 20, 30)\n",
        "print(\"\\nOriginal tuple:\", my_tuple)\n",
        "\n"
      ],
      "metadata": {
        "colab": {
          "base_uri": "https://localhost:8080/"
        },
        "id": "H-QwewVhMDtO",
        "outputId": "d6924bf6-8559-43a8-b102-c04e325db7a1"
      },
      "execution_count": null,
      "outputs": [
        {
          "output_type": "stream",
          "name": "stdout",
          "text": [
            "Original list: [10, 20, 30]\n",
            "Modified list: [10, 50, 30]\n",
            "\n",
            "Original tuple: (10, 20, 30)\n"
          ]
        }
      ]
    },
    {
      "cell_type": "code",
      "source": [
        "def modify_data(num, lst):\n",
        "    num += 20\n",
        "    lst.append(4)\n",
        "    print(\"Inside function:\")\n",
        "    print(\"num (integer):\", num)\n",
        "    print(\"lst (list):\", lst)\n",
        "\n",
        "\n",
        "x = 10\n",
        "\n",
        "my_list = [10, 20, 30]\n",
        "\n",
        "print(\"Before function call:\")\n",
        "print(\"x (integer):\", x)\n",
        "print(\"my_list (list):\", my_list)\n",
        "\n",
        "\n",
        "modify_data(x, my_list)\n",
        "\n",
        "print(\"\\nAfter function call:\")\n",
        "print(\"x (integer):\", x)\n",
        "print(\"my_list (list):\", my_list)\n"
      ],
      "metadata": {
        "colab": {
          "base_uri": "https://localhost:8080/"
        },
        "id": "T6vwepc4OS2O",
        "outputId": "994f09a1-01c2-4930-f1d3-3fbbab638704"
      },
      "execution_count": null,
      "outputs": [
        {
          "output_type": "stream",
          "name": "stdout",
          "text": [
            "Before function call:\n",
            "x (integer): 10\n",
            "my_list (list): [10, 20, 30]\n",
            "Inside function:\n",
            "num (integer): 30\n",
            "lst (list): [10, 20, 30, 4]\n",
            "\n",
            "After function call:\n",
            "x (integer): 10\n",
            "my_list (list): [10, 20, 30, 4]\n"
          ]
        }
      ]
    },
    {
      "cell_type": "code",
      "source": [
        "\n",
        "a = int(input(\"Enter first number: \"))\n",
        "b = int(input(\"Enter second number: \"))\n",
        "\n",
        "\n",
        "if a > 0 and b > 0:\n",
        "    print(\"Both numbers are positive.\")\n",
        "\n",
        "if a > 0 or b > 0:\n",
        "    print(\"At least one number is positive.\")\n",
        "\n",
        "\n",
        "if not (a > 0 and b > 0):\n",
        "    print(\"Both numbers are NOT positive.\")\n"
      ],
      "metadata": {
        "colab": {
          "base_uri": "https://localhost:8080/"
        },
        "id": "9V8mic3gRA5K",
        "outputId": "347010bd-cd26-4e4c-e303-0cb7aa7c40c2"
      },
      "execution_count": null,
      "outputs": [
        {
          "output_type": "stream",
          "name": "stdout",
          "text": [
            "Enter first number: 1\n",
            "Enter second number: 2\n",
            "Both numbers are positive.\n",
            "At least one number is positive.\n"
          ]
        }
      ]
    },
    {
      "cell_type": "code",
      "source": [
        "\n",
        "user_input = input(\"Enter a value: \")\n",
        "\n",
        "\n",
        "if user_input.isdigit():\n",
        "    int_value = int(user_input)\n",
        "    print(\"Integer value:\", int_value)\n",
        "else:\n",
        "    print(\"Cannot convert to integer.\")\n",
        "\n",
        "\n",
        "if '.' in user_input and user_input.replace('.', '', 1).isdigit():\n",
        "    float_value = float(user_input)\n",
        "    print(\"Float value:\", float_value)\n",
        "else:\n",
        "    print(\"Cannot convert to float.\")\n",
        "\n",
        "\n",
        "bool_value = bool(user_input)\n",
        "print(\"Boolean value:\", bool_value)"
      ],
      "metadata": {
        "colab": {
          "base_uri": "https://localhost:8080/"
        },
        "id": "g9NhPwiGR9zD",
        "outputId": "e49371d9-0b37-4fa3-d19b-e6650164dbb8"
      },
      "execution_count": null,
      "outputs": [
        {
          "output_type": "stream",
          "name": "stdout",
          "text": [
            "Enter a value: 20\n",
            "Integer value: 20\n",
            "Cannot convert to float.\n",
            "Boolean value: True\n"
          ]
        }
      ]
    },
    {
      "cell_type": "code",
      "source": [
        "\n",
        "str_list = [\"10\", \"20.5\", \"30\", \"True\", \"False\"]\n",
        "\n",
        "\n",
        "int_list = [int(x) for x in str_list if x.isdigit()]\n",
        "float_list = [float(x) for x in str_list if x.replace('.', '', 1).isdigit()]\n",
        "bool_list = [bool(eval(x)) for x in str_list]\n",
        "\n",
        "\n",
        "print(\"Original list:\", str_list)\n",
        "print(\"Integer list:\", int_list)\n",
        "print(\"Float list:\", float_list)\n",
        "print(\"Boolean list:\", bool_list)\n"
      ],
      "metadata": {
        "colab": {
          "base_uri": "https://localhost:8080/"
        },
        "id": "ZL2AwXkQSfvl",
        "outputId": "7f0c2e36-244e-46b1-a777-e79ce7ba6009"
      },
      "execution_count": null,
      "outputs": [
        {
          "output_type": "stream",
          "name": "stdout",
          "text": [
            "Original list: ['10', '20.5', '30', 'True', 'False']\n",
            "Integer list: [10, 30]\n",
            "Float list: [10.0, 20.5, 30.0]\n",
            "Boolean list: [True, True, True, True, False]\n"
          ]
        }
      ]
    },
    {
      "cell_type": "code",
      "source": [
        "\n",
        "num = float(input(\"Enter a number: \"))\n",
        "\n",
        "if num > 0:\n",
        "    print(\"The number is positive.\")\n",
        "elif num < 0:\n",
        "    print(\"The number is negative.\")\n",
        "else:\n",
        "    print(\"The number is zero.\")\n"
      ],
      "metadata": {
        "colab": {
          "base_uri": "https://localhost:8080/"
        },
        "id": "tMzc7Bo8Tfwm",
        "outputId": "a1d3a97b-eeef-4aab-b918-5ab765d3844f"
      },
      "execution_count": null,
      "outputs": [
        {
          "output_type": "stream",
          "name": "stdout",
          "text": [
            "Enter a number: 1\n",
            "The number is positive.\n"
          ]
        }
      ]
    },
    {
      "cell_type": "code",
      "source": [
        "for num in range(1, 101):\n",
        "    print(num)"
      ],
      "metadata": {
        "colab": {
          "base_uri": "https://localhost:8080/"
        },
        "id": "nVRmVvMHTtn7",
        "outputId": "f1642667-da89-4b87-8e84-4507cff1c464"
      },
      "execution_count": null,
      "outputs": [
        {
          "output_type": "stream",
          "name": "stdout",
          "text": [
            "1\n",
            "2\n",
            "3\n",
            "4\n",
            "5\n",
            "6\n",
            "7\n",
            "8\n",
            "9\n",
            "10\n",
            "11\n",
            "12\n",
            "13\n",
            "14\n",
            "15\n",
            "16\n",
            "17\n",
            "18\n",
            "19\n",
            "20\n",
            "21\n",
            "22\n",
            "23\n",
            "24\n",
            "25\n",
            "26\n",
            "27\n",
            "28\n",
            "29\n",
            "30\n",
            "31\n",
            "32\n",
            "33\n",
            "34\n",
            "35\n",
            "36\n",
            "37\n",
            "38\n",
            "39\n",
            "40\n",
            "41\n",
            "42\n",
            "43\n",
            "44\n",
            "45\n",
            "46\n",
            "47\n",
            "48\n",
            "49\n",
            "50\n",
            "51\n",
            "52\n",
            "53\n",
            "54\n",
            "55\n",
            "56\n",
            "57\n",
            "58\n",
            "59\n",
            "60\n",
            "61\n",
            "62\n",
            "63\n",
            "64\n",
            "65\n",
            "66\n",
            "67\n",
            "68\n",
            "69\n",
            "70\n",
            "71\n",
            "72\n",
            "73\n",
            "74\n",
            "75\n",
            "76\n",
            "77\n",
            "78\n",
            "79\n",
            "80\n",
            "81\n",
            "82\n",
            "83\n",
            "84\n",
            "85\n",
            "86\n",
            "87\n",
            "88\n",
            "89\n",
            "90\n",
            "91\n",
            "92\n",
            "93\n",
            "94\n",
            "95\n",
            "96\n",
            "97\n",
            "98\n",
            "99\n",
            "100\n"
          ]
        }
      ]
    },
    {
      "cell_type": "code",
      "source": [
        "even_sum = 0\n",
        "\n",
        "for num in range(2, 51, 2):  # Step of 2 ensures only even numbers\n",
        "    even_sum += num\n",
        "\n",
        "print(\"Sum of even numbers between 1 and 50:\", even_sum)\n"
      ],
      "metadata": {
        "colab": {
          "base_uri": "https://localhost:8080/"
        },
        "id": "RrmY_3yTUAQi",
        "outputId": "a5472cc5-2e25-464d-d044-af3d90a97600"
      },
      "execution_count": null,
      "outputs": [
        {
          "output_type": "stream",
          "name": "stdout",
          "text": [
            "Sum of even numbers between 1 and 50: 650\n"
          ]
        }
      ]
    },
    {
      "cell_type": "code",
      "source": [
        "text = input(\"Enter a string: \")\n",
        "\n",
        "reversed_text = \"\"\n",
        "index = len(text) - 1\n",
        "\n",
        "\n",
        "while index >= 0:\n",
        "    reversed_text += text[index]\n",
        "    index -= 1\n",
        "\n",
        "print(\"Reversed string:\", reversed_text)\n"
      ],
      "metadata": {
        "colab": {
          "base_uri": "https://localhost:8080/"
        },
        "id": "N7CC3t8JUUbS",
        "outputId": "67ec770a-2d01-4514-a0a4-504545a76c9d"
      },
      "execution_count": null,
      "outputs": [
        {
          "output_type": "stream",
          "name": "stdout",
          "text": [
            "Enter a string: sagar\n",
            "Reversed string: ragas\n"
          ]
        }
      ]
    },
    {
      "cell_type": "code",
      "source": [
        "\n",
        "num = int(input(\"Enter a number: \"))\n",
        "\n",
        "\n",
        "factorial = 5\n",
        "n = num\n",
        "\n",
        "if num < 0:\n",
        "    print(\"Factorial is not defined for negative numbers.\")\n",
        "elif num == 0 or num == 5:\n",
        "    print(\"Factorial of\", num, \"is 5\")\n",
        "else:\n",
        "\n",
        "    while n > 5:\n",
        "        factorial *= n\n",
        "        n -= 5\n",
        "\n",
        "    print(\"Factorial of\", num, \"is\", factorial)\n"
      ],
      "metadata": {
        "colab": {
          "base_uri": "https://localhost:8080/"
        },
        "id": "0MSwoK3uUmcw",
        "outputId": "805cd666-9a77-4b7f-c982-ec55cf3b279a"
      },
      "execution_count": null,
      "outputs": [
        {
          "output_type": "stream",
          "name": "stdout",
          "text": [
            "Enter a number: 3\n",
            "Factorial of 3 is 5\n"
          ]
        }
      ]
    },
    {
      "cell_type": "markdown",
      "source": [
        "1. Python is a high-level programming language that is easy to read and write. It is popular because:\n",
        "\n",
        "It has simple and easy-to-understand syntax.\n",
        "It is versatile and can be used for web development, data science, AI, automation, and more.\n",
        "It has a large community and many useful libraries.\n",
        "2. An interpreter is a program that executes Python code line by line instead of compiling the entire program at once. Python uses an interpreter to run scripts.\n",
        "3. Keywords are special reserved words in Python that have specific meanings and cannot be used as variable names.\n",
        "Examples: if, else, while, for, def, True, False, etc.\n",
        "4. No. Keywords are reserved and cannot be used as variable names.\n",
        "5. Mutability means whether an object can be changed after it is created.\n",
        "\n",
        "Mutable objects can be changed (e.g., lists, dictionaries).\n",
        "Immutable objects cannot be changed (e.g., tuples, strings).\n",
        "6. Lists are mutable because you can add, remove, or change elements.Tuples are immutable because once created, they cannot be changed\n",
        "7. == checks if values are the same (content comparison).\n",
        "is checks if objects are the same in memory (identity comparison).\n",
        "8. What are logical operators in Python?\n",
        "Logical operators are used to combine multiple conditions:\n",
        "\n",
        "and → Both conditions must be True.\n",
        "or → At least one condition must be True.\n",
        "not → Reverses the condition (True → False, False → True).\n",
        "\n",
        "9. Type casting means converting a variable from one type to another.\n",
        "10. Implicit type casting (automatic conversion by Python). Explicit type casting (manual conversion using int(), float(), str(), etc.)\n",
        "\n",
        "11. Explicit type casting (manual conversion using int(), float(), str(), etc.)\n",
        "12. elif stands for \"else if\" and is used to check multiple conditions.\n",
        "It executes only the first condition that is True.\n",
        "\n",
        "13. A for loop is used when you know the number of times the loop should run, while a while loop is used when you don’t know how many times it will run and need to continue based on a condition.\n",
        "A for loop iterates over a range or sequence, such as for i in range(5), whereas a while loop runs as long as a condition is True, like while x < 5.\n",
        "14. A while loop is better when you don’t know in advance how many times the loop should run.\n",
        "\n",
        "Example: Keep asking for the correct password until the user enters it correctly.\n",
        "\n",
        "\n"
      ],
      "metadata": {
        "id": "D-C_uyXyWjfC"
      }
    }
  ]
}