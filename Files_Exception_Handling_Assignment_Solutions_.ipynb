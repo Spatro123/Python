{
  "cells": [
    {
      "cell_type": "markdown",
      "metadata": {
        "id": "view-in-github",
        "colab_type": "text"
      },
      "source": [
        "<a href=\"https://colab.research.google.com/github/Spatro123/Python/blob/main/Files_Exception_Handling_Assignment_Solutions_.ipynb\" target=\"_parent\"><img src=\"https://colab.research.google.com/assets/colab-badge.svg\" alt=\"Open In Colab\"/></a>"
      ]
    },
    {
      "cell_type": "markdown",
      "id": "cac0662f",
      "metadata": {
        "id": "cac0662f"
      },
      "source": [
        "\n",
        "**Q: What is the difference between interpreted and compiled languages**\n",
        "\n",
        "A: Compiled languages translate the entire code into machine code before execution (e.g., C, C++), making them faster at runtime. Interpreted languages (e.g., Python, JavaScript) execute code line by line using an interpreter, offering flexibility but slower execution.\n",
        "\n"
      ]
    },
    {
      "cell_type": "markdown",
      "source": [
        "\n",
        "**Q: What is exception handling in Python**\n",
        "\n",
        "A: Exception handling in Python is a mechanism to handle runtime errors, allowing a program to continue execution rather than crashing.\n"
      ],
      "metadata": {
        "id": "cMshscoRqI-y"
      },
      "id": "cMshscoRqI-y"
    },
    {
      "cell_type": "markdown",
      "source": [
        "\n",
        "**3Q: What is the purpose of the finally block in exception handling**\n",
        "\n",
        "A: The 'finally' block ensures a set of statements is executed no matter what, whether an exception occurs or not. Commonly used for cleanup operations like closing files.\n",
        "\n",
        "\n"
      ],
      "metadata": {
        "id": "1AGRxvppqQ1y"
      },
      "id": "1AGRxvppqQ1y"
    },
    {
      "cell_type": "markdown",
      "source": [
        "Q4. What is logging in Python\n",
        "A: Logging in Python is the process of recording program execution details (errors, warnings, info) to help debugging and monitoring."
      ],
      "metadata": {
        "id": "78TqodUcquVm"
      },
      "id": "78TqodUcquVm"
    },
    {
      "cell_type": "markdown",
      "source": [
        "Q5. What is the significance of the __del__ method in Python\n",
        "A: __del__ is a destructor method in Python, automatically called when an object is about to be destroyed. It’s used to release resources like closing files or network connections."
      ],
      "metadata": {
        "id": "w7PjoXB4qsw1"
      },
      "id": "w7PjoXB4qsw1"
    },
    {
      "cell_type": "markdown",
      "source": [
        "Q6. What is the difference between import and from ... import in Python\n",
        "A: import module imports the whole module. from module import func imports only the specific function/class/variable from the module."
      ],
      "metadata": {
        "id": "VJSTkUbcrMKD"
      },
      "id": "VJSTkUbcrMKD"
    },
    {
      "cell_type": "markdown",
      "source": [
        "Q7. How can you handle multiple exceptions in Python\n",
        "A: You can catch multiple exceptions by using multiple except blocks or combining them in a tuple, e.g., except (ValueError, TypeError):."
      ],
      "metadata": {
        "id": "niMnGRirrRYq"
      },
      "id": "niMnGRirrRYq"
    },
    {
      "cell_type": "markdown",
      "source": [
        "Q8. What is the purpose of the with statement when handling files in Python\n",
        "A: The with statement simplifies file handling by automatically managing opening and closing files, even if exceptions occur."
      ],
      "metadata": {
        "id": "nwwRq42erUdD"
      },
      "id": "nwwRq42erUdD"
    },
    {
      "cell_type": "markdown",
      "source": [
        "Q9. What is the difference between multithreading and multiprocessing\n",
        "A: Multithreading runs multiple threads in the same process (sharing memory), suitable for I/O-bound tasks. Multiprocessing runs separate processes with independent memory, suitable for CPU-bound tasks."
      ],
      "metadata": {
        "id": "i_PX4R58rXjs"
      },
      "id": "i_PX4R58rXjs"
    },
    {
      "cell_type": "markdown",
      "source": [
        "**Q: What is logging in Python**\n",
        "\n",
        "A: Logging in Python is the process of recording program execution details (errors, warnings, info) to help debugging and monitoring.\n",
        "\n"
      ],
      "metadata": {
        "id": "ZQ8PdjYwqfzM"
      },
      "id": "ZQ8PdjYwqfzM"
    },
    {
      "cell_type": "markdown",
      "source": [
        "**Q: What is the significance of the __del__ method in Python**\n",
        "\n",
        "A: __del__ is a destructor method in Python, automatically called when an object is about to be destroyed. It’s used to release resources like closing files or network connections.\n",
        "\n"
      ],
      "metadata": {
        "id": "EJ8uRgXJqn-F"
      },
      "id": "EJ8uRgXJqn-F"
    },
    {
      "cell_type": "markdown",
      "source": [
        "Q10. What are the advantages of using logging in a program\n",
        "A: Advantages include better debugging, easier monitoring, configurable output (console, files), and ability to track program flow without print statements."
      ],
      "metadata": {
        "id": "mWjJPAWDreFU"
      },
      "id": "mWjJPAWDreFU"
    },
    {
      "cell_type": "markdown",
      "source": [
        "Q11. What is memory management in Python\n",
        "A: Memory management in Python involves allocating and freeing memory for objects, managed automatically by Python’s garbage collector."
      ],
      "metadata": {
        "id": "9QbRtwACrgnc"
      },
      "id": "9QbRtwACrgnc"
    },
    {
      "cell_type": "markdown",
      "source": [
        "Q12. What are the basic steps involved in exception handling in Python\n",
        "A: Steps: try block (suspicious code), except block (handle error), else block (runs if no error), finally block (runs always)."
      ],
      "metadata": {
        "id": "S-CZSH-JrkFd"
      },
      "id": "S-CZSH-JrkFd"
    },
    {
      "cell_type": "markdown",
      "source": [
        "Q13. Why is memory management important in Python\n",
        "A: It prevents memory leaks, ensures efficient use of memory resources, and avoids program crashes due to excessive memory usage."
      ],
      "metadata": {
        "id": "yajvCuBJrmcm"
      },
      "id": "yajvCuBJrmcm"
    },
    {
      "cell_type": "markdown",
      "source": [
        "Q14. What is the role of try and except in exception handling\n",
        "A: The try block holds risky code; the except block handles the error gracefully without crashing the program."
      ],
      "metadata": {
        "id": "P90cdnorrofN"
      },
      "id": "P90cdnorrofN"
    },
    {
      "cell_type": "markdown",
      "source": [
        "Q15. How does Python's garbage collection system work\n",
        "A: Python uses reference counting and a cyclic garbage collector to automatically free memory of unused objects."
      ],
      "metadata": {
        "id": "U3i2NAEJrq7n"
      },
      "id": "U3i2NAEJrq7n"
    },
    {
      "cell_type": "markdown",
      "source": [
        "Q16. What is the purpose of the else block in exception handling\n",
        "A: The else block runs only if no exception occurs in the try block, often used for code that should execute if everything goes well."
      ],
      "metadata": {
        "id": "kCuU60A2rtdn"
      },
      "id": "kCuU60A2rtdn"
    },
    {
      "cell_type": "markdown",
      "source": [
        "Q17. What are the common logging levels in Python\n",
        "A: Common logging levels: DEBUG, INFO, WARNING, ERROR, CRITICAL."
      ],
      "metadata": {
        "id": "in8zhGctrwSB"
      },
      "id": "in8zhGctrwSB"
    },
    {
      "cell_type": "markdown",
      "source": [
        "Q18. What is the difference between os.fork() and multiprocessing in Python\n",
        "A: os.fork() creates a new process by duplicating the current one (works on Unix). multiprocessing is a cross-platform module to create processes with better APIs."
      ],
      "metadata": {
        "id": "kXY0IXxur0Mv"
      },
      "id": "kXY0IXxur0Mv"
    },
    {
      "cell_type": "markdown",
      "source": [
        "Q19. What is the importance of closing a file in Python\n",
        "A: Closing a file releases system resources, ensures data is written properly, and prevents file corruption."
      ],
      "metadata": {
        "id": "3Hu2ngC3r2ro"
      },
      "id": "3Hu2ngC3r2ro"
    },
    {
      "cell_type": "markdown",
      "source": [
        "Q20. What is the difference between file.read() and file.readline() in Python\n",
        "A: file.read() reads the entire file as a string. file.readline() reads only one line at a time."
      ],
      "metadata": {
        "id": "Ec-rpHQ7r5Hw"
      },
      "id": "Ec-rpHQ7r5Hw"
    },
    {
      "cell_type": "markdown",
      "source": [
        "Q21. What is the logging module in Python used for\n",
        "A: The logging module is used for generating log messages to track events, errors, or general runtime information."
      ],
      "metadata": {
        "id": "0D9bwO-yr7Y4"
      },
      "id": "0D9bwO-yr7Y4"
    },
    {
      "cell_type": "markdown",
      "source": [
        "Q22. What is the os module in Python used for in file handling\n",
        "A: The os module provides functions to interact with the operating system, like file handling (creating, deleting, path operations)."
      ],
      "metadata": {
        "id": "JB4FfaTbr9co"
      },
      "id": "JB4FfaTbr9co"
    },
    {
      "cell_type": "markdown",
      "source": [
        "Q23. What are the challenges associated with memory management in Python\n",
        "A: Challenges include garbage collection overhead, fragmentation, and managing memory in long-running processes."
      ],
      "metadata": {
        "id": "5VEJZhl7r_nJ"
      },
      "id": "5VEJZhl7r_nJ"
    },
    {
      "cell_type": "markdown",
      "source": [
        "Q24. How do you raise an exception manually in Python\n",
        "A: Use the raise keyword, e.g., raise ValueError('Invalid input')."
      ],
      "metadata": {
        "id": "gS-LLMjjsCNp"
      },
      "id": "gS-LLMjjsCNp"
    },
    {
      "cell_type": "markdown",
      "source": [
        "Q25. Why is it important to use multithreading in certain applications?\n",
        "A: Multithreading improves performance for I/O-heavy applications, allowing tasks like file downloads or UI responsiveness without blocking."
      ],
      "metadata": {
        "id": "brOnxDuKsE6q"
      },
      "id": "brOnxDuKsE6q"
    },
    {
      "cell_type": "markdown",
      "id": "031d1342",
      "metadata": {
        "id": "031d1342"
      },
      "source": [
        "**Q: How can you open a file for writing in Python and write a string to it**"
      ]
    },
    {
      "cell_type": "code",
      "execution_count": null,
      "id": "c5a808e1",
      "metadata": {
        "id": "c5a808e1"
      },
      "outputs": [],
      "source": [
        "with open('example.txt', 'w') as f:\n",
        "    f.write('Hello, world!')"
      ]
    },
    {
      "cell_type": "markdown",
      "id": "7b2faf30",
      "metadata": {
        "id": "7b2faf30"
      },
      "source": [
        "**Q: Write a Python program to read the contents of a file and print each line**"
      ]
    },
    {
      "cell_type": "code",
      "execution_count": null,
      "id": "fbcb1f4e",
      "metadata": {
        "id": "fbcb1f4e"
      },
      "outputs": [],
      "source": [
        "with open('example.txt', 'r') as f:\n",
        "    for line in f:\n",
        "        print(line.strip())"
      ]
    },
    {
      "cell_type": "markdown",
      "id": "183672cd",
      "metadata": {
        "id": "183672cd"
      },
      "source": [
        "**Q: How would you handle a case where the file doesn't exist while trying to open it for reading**"
      ]
    },
    {
      "cell_type": "code",
      "execution_count": null,
      "id": "e6ec52ee",
      "metadata": {
        "id": "e6ec52ee"
      },
      "outputs": [],
      "source": [
        "try:\n",
        "    with open('nofile.txt', 'r') as f:\n",
        "        print(f.read())\n",
        "except FileNotFoundError:\n",
        "    print('File does not exist')"
      ]
    },
    {
      "cell_type": "markdown",
      "id": "8b857d7b",
      "metadata": {
        "id": "8b857d7b"
      },
      "source": [
        "**Q: Write a Python script that reads from one file and writes its content to another file**"
      ]
    },
    {
      "cell_type": "code",
      "execution_count": null,
      "id": "51c20ff6",
      "metadata": {
        "id": "51c20ff6"
      },
      "outputs": [],
      "source": [
        "with open('source.txt', 'r') as src, open('destination.txt', 'w') as dest:\n",
        "    dest.write(src.read())"
      ]
    },
    {
      "cell_type": "markdown",
      "id": "e928b4a2",
      "metadata": {
        "id": "e928b4a2"
      },
      "source": [
        "**Q: How would you catch and handle division by zero error in Python**"
      ]
    },
    {
      "cell_type": "code",
      "execution_count": null,
      "id": "be6e8c3b",
      "metadata": {
        "id": "be6e8c3b"
      },
      "outputs": [],
      "source": [
        "try:\n",
        "    result = 10 / 0\n",
        "except ZeroDivisionError:\n",
        "    print('Division by zero is not allowed')"
      ]
    },
    {
      "cell_type": "markdown",
      "id": "89922ee2",
      "metadata": {
        "id": "89922ee2"
      },
      "source": [
        "**Q: Write a Python program that logs an error message to a log file when a division by zero exception occurs**"
      ]
    },
    {
      "cell_type": "code",
      "execution_count": null,
      "id": "087f7afb",
      "metadata": {
        "id": "087f7afb"
      },
      "outputs": [],
      "source": [
        "import logging\n",
        "logging.basicConfig(filename='app.log', level=logging.ERROR)\n",
        "try:\n",
        "    x = 1/0\n",
        "except ZeroDivisionError:\n",
        "    logging.error('Division by zero error occurred')"
      ]
    },
    {
      "cell_type": "markdown",
      "id": "2705e34f",
      "metadata": {
        "id": "2705e34f"
      },
      "source": [
        "**Q: How do you log information at different levels (INFO, ERROR, WARNING) in Python using the logging module**"
      ]
    },
    {
      "cell_type": "code",
      "execution_count": null,
      "id": "77d8f932",
      "metadata": {
        "id": "77d8f932"
      },
      "outputs": [],
      "source": [
        "import logging\n",
        "logging.basicConfig(level=logging.DEBUG)\n",
        "logging.info('This is info')\n",
        "logging.warning('This is a warning')\n",
        "logging.error('This is an error')"
      ]
    },
    {
      "cell_type": "markdown",
      "id": "2b8696ec",
      "metadata": {
        "id": "2b8696ec"
      },
      "source": [
        "**Q: Write a program to handle a file opening error using exception handling**"
      ]
    },
    {
      "cell_type": "code",
      "execution_count": null,
      "id": "47424015",
      "metadata": {
        "id": "47424015"
      },
      "outputs": [],
      "source": [
        "try:\n",
        "    with open('nofile.txt', 'r') as f:\n",
        "        data = f.read()\n",
        "except IOError:\n",
        "    print('Error opening file')"
      ]
    },
    {
      "cell_type": "markdown",
      "id": "e00da413",
      "metadata": {
        "id": "e00da413"
      },
      "source": [
        "**Q: How can you read a file line by line and store its content in a list in Python**"
      ]
    },
    {
      "cell_type": "code",
      "execution_count": null,
      "id": "afa5d5bb",
      "metadata": {
        "id": "afa5d5bb"
      },
      "outputs": [],
      "source": [
        "with open('example.txt', 'r') as f:\n",
        "    lines = f.readlines()\n",
        "print(lines)"
      ]
    },
    {
      "cell_type": "markdown",
      "id": "ce29e77d",
      "metadata": {
        "id": "ce29e77d"
      },
      "source": [
        "**Q: How can you append data to an existing file in Python**"
      ]
    },
    {
      "cell_type": "code",
      "execution_count": null,
      "id": "9dceaf1d",
      "metadata": {
        "id": "9dceaf1d"
      },
      "outputs": [],
      "source": [
        "with open('example.txt', 'a') as f:\n",
        "    f.write('\\nNew line appended')"
      ]
    },
    {
      "cell_type": "markdown",
      "id": "3fb77647",
      "metadata": {
        "id": "3fb77647"
      },
      "source": [
        "**Q: Write a Python program that uses a try-except block to handle an error when attempting to access a dictionary key that doesn't exist**"
      ]
    },
    {
      "cell_type": "code",
      "execution_count": null,
      "id": "e101f30a",
      "metadata": {
        "id": "e101f30a"
      },
      "outputs": [],
      "source": [
        "my_dict = {'a': 1}\n",
        "try:\n",
        "    print(my_dict['b'])\n",
        "except KeyError:\n",
        "    print('Key not found')"
      ]
    },
    {
      "cell_type": "markdown",
      "id": "2b4b342e",
      "metadata": {
        "id": "2b4b342e"
      },
      "source": [
        "**Q: Write a program that demonstrates using multiple except blocks to handle different types of exceptions**"
      ]
    },
    {
      "cell_type": "code",
      "execution_count": null,
      "id": "8c6e111b",
      "metadata": {
        "id": "8c6e111b"
      },
      "outputs": [],
      "source": [
        "try:\n",
        "    x = int('abc')\n",
        "except ValueError:\n",
        "    print('ValueError occurred')\n",
        "try:\n",
        "    y = 10/0\n",
        "except ZeroDivisionError:\n",
        "    print('ZeroDivisionError occurred')"
      ]
    },
    {
      "cell_type": "markdown",
      "id": "66eee6b7",
      "metadata": {
        "id": "66eee6b7"
      },
      "source": [
        "**Q: How would you check if a file exists before attempting to read it in Python**"
      ]
    },
    {
      "cell_type": "code",
      "execution_count": null,
      "id": "cd302f6e",
      "metadata": {
        "id": "cd302f6e"
      },
      "outputs": [],
      "source": [
        "import os\n",
        "if os.path.exists('example.txt'):\n",
        "    with open('example.txt') as f:\n",
        "        print(f.read())"
      ]
    },
    {
      "cell_type": "markdown",
      "id": "1fba9457",
      "metadata": {
        "id": "1fba9457"
      },
      "source": [
        "**Q: Write a program that uses the logging module to log both informational and error messages**"
      ]
    },
    {
      "cell_type": "code",
      "execution_count": null,
      "id": "c7b131ec",
      "metadata": {
        "id": "c7b131ec"
      },
      "outputs": [],
      "source": [
        "import logging\n",
        "logging.basicConfig(filename='app.log', level=logging.INFO)\n",
        "logging.info('Program started')\n",
        "try:\n",
        "    1/0\n",
        "except ZeroDivisionError:\n",
        "    logging.error('Division error occurred')"
      ]
    },
    {
      "cell_type": "markdown",
      "id": "d6d3df06",
      "metadata": {
        "id": "d6d3df06"
      },
      "source": [
        "**Q: Write a Python program that prints the content of a file and handles the case when the file is empty**"
      ]
    },
    {
      "cell_type": "code",
      "execution_count": null,
      "id": "bf6f7d16",
      "metadata": {
        "id": "bf6f7d16"
      },
      "outputs": [],
      "source": [
        "with open('example.txt', 'r') as f:\n",
        "    content = f.read()\n",
        "if content == '':\n",
        "    print('File is empty')\n",
        "else:\n",
        "    print(content)"
      ]
    },
    {
      "cell_type": "markdown",
      "id": "8585429b",
      "metadata": {
        "id": "8585429b"
      },
      "source": [
        "**Q: Demonstrate how to use memory profiling to check the memory usage of a small program**"
      ]
    },
    {
      "cell_type": "code",
      "execution_count": null,
      "id": "56847fca",
      "metadata": {
        "id": "56847fca"
      },
      "outputs": [],
      "source": [
        "from memory_profiler import profile\n",
        "@profile\n",
        "def test():\n",
        "    a = [i for i in range(1000)]\n",
        "test()"
      ]
    },
    {
      "cell_type": "markdown",
      "id": "c4ffac23",
      "metadata": {
        "id": "c4ffac23"
      },
      "source": [
        "**Q: Write a Python program to create and write a list of numbers to a file, one number per line**"
      ]
    },
    {
      "cell_type": "code",
      "execution_count": null,
      "id": "7ab8b7a1",
      "metadata": {
        "id": "7ab8b7a1"
      },
      "outputs": [],
      "source": [
        "numbers = [1,2,3,4,5]\n",
        "with open('numbers.txt', 'w') as f:\n",
        "    for num in numbers:\n",
        "        f.write(str(num) + '\\n')"
      ]
    },
    {
      "cell_type": "markdown",
      "id": "8483c4a6",
      "metadata": {
        "id": "8483c4a6"
      },
      "source": [
        "**Q: How would you implement a basic logging setup that logs to a file with rotation after 1MB**"
      ]
    },
    {
      "cell_type": "code",
      "execution_count": null,
      "id": "5a3c4afe",
      "metadata": {
        "id": "5a3c4afe"
      },
      "outputs": [],
      "source": [
        "import logging\n",
        "from logging.handlers import RotatingFileHandler\n",
        "handler = RotatingFileHandler('app.log', maxBytes=1048576, backupCount=3)\n",
        "logging.basicConfig(handlers=[handler], level=logging.INFO)\n",
        "logging.info('Logging with rotation')"
      ]
    },
    {
      "cell_type": "markdown",
      "id": "c6c33420",
      "metadata": {
        "id": "c6c33420"
      },
      "source": [
        "**Q: Write a program that handles both IndexError and KeyError using a try-except block**"
      ]
    },
    {
      "cell_type": "code",
      "execution_count": null,
      "id": "dcb14cee",
      "metadata": {
        "id": "dcb14cee"
      },
      "outputs": [],
      "source": [
        "try:\n",
        "    my_list = [1,2,3]\n",
        "    print(my_list[5])\n",
        "except IndexError:\n",
        "    print('Index out of range')\n",
        "try:\n",
        "    my_dict = {}\n",
        "    print(my_dict['key'])\n",
        "except KeyError:\n",
        "    print('Key not found')"
      ]
    },
    {
      "cell_type": "markdown",
      "id": "1f9385b1",
      "metadata": {
        "id": "1f9385b1"
      },
      "source": [
        "**Q: How would you open a file and read its contents using a context manager in Python**"
      ]
    },
    {
      "cell_type": "code",
      "execution_count": null,
      "id": "c76375e0",
      "metadata": {
        "id": "c76375e0"
      },
      "outputs": [],
      "source": [
        "with open('example.txt', 'r') as f:\n",
        "    print(f.read())"
      ]
    },
    {
      "cell_type": "markdown",
      "id": "e3c54bb0",
      "metadata": {
        "id": "e3c54bb0"
      },
      "source": [
        "**Q: Write a Python program that reads a file and prints the number of occurrences of a specific word**"
      ]
    },
    {
      "cell_type": "code",
      "execution_count": null,
      "id": "2542ebaf",
      "metadata": {
        "id": "2542ebaf"
      },
      "outputs": [],
      "source": [
        "word = 'Python'\n",
        "count = 0\n",
        "with open('example.txt', 'r') as f:\n",
        "    for line in f:\n",
        "        count += line.count(word)\n",
        "print(f'Occurrences of {word}:', count)"
      ]
    },
    {
      "cell_type": "markdown",
      "id": "0fa861ff",
      "metadata": {
        "id": "0fa861ff"
      },
      "source": [
        "**Q: How can you check if a file is empty before attempting to read its contents**"
      ]
    },
    {
      "cell_type": "code",
      "execution_count": null,
      "id": "9c0027fd",
      "metadata": {
        "id": "9c0027fd"
      },
      "outputs": [],
      "source": [
        "import os\n",
        "if os.path.getsize('example.txt') == 0:\n",
        "    print('File is empty')"
      ]
    },
    {
      "cell_type": "markdown",
      "id": "778af9a5",
      "metadata": {
        "id": "778af9a5"
      },
      "source": [
        "**Q: Write a Python program that writes to a log file when an error occurs during file handling.**"
      ]
    },
    {
      "cell_type": "code",
      "execution_count": null,
      "id": "ce833b4b",
      "metadata": {
        "id": "ce833b4b"
      },
      "outputs": [],
      "source": [
        "import logging\n",
        "logging.basicConfig(filename='file_error.log', level=logging.ERROR)\n",
        "try:\n",
        "    with open('nofile.txt', 'r') as f:\n",
        "        data = f.read()\n",
        "except Exception as e:\n",
        "    logging.error(f'Error: {e}')"
      ]
    }
  ],
  "metadata": {
    "colab": {
      "provenance": [],
      "include_colab_link": true
    }
  },
  "nbformat": 4,
  "nbformat_minor": 5
}