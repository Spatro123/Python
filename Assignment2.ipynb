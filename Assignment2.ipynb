{
  "nbformat": 4,
  "nbformat_minor": 0,
  "metadata": {
    "colab": {
      "provenance": [],
      "authorship_tag": "ABX9TyOZ7u7Osmqa1u5FFm9xrK3X",
      "include_colab_link": true
    },
    "kernelspec": {
      "name": "python3",
      "display_name": "Python 3"
    },
    "language_info": {
      "name": "python"
    }
  },
  "cells": [
    {
      "cell_type": "markdown",
      "metadata": {
        "id": "view-in-github",
        "colab_type": "text"
      },
      "source": [
        "<a href=\"https://colab.research.google.com/github/Spatro123/Python/blob/main/Assignment2.ipynb\" target=\"_parent\"><img src=\"https://colab.research.google.com/assets/colab-badge.svg\" alt=\"Open In Colab\"/></a>"
      ]
    },
    {
      "cell_type": "code",
      "execution_count": null,
      "metadata": {
        "id": "LXP1CvH5utaR"
      },
      "outputs": [],
      "source": [
        "# prompt: name = \"SAGAR\"\n",
        "# print(name)\n",
        "\n",
        "name = \"SAGAR\"\n",
        "name\n"
      ]
    },
    {
      "cell_type": "markdown",
      "source": [],
      "metadata": {
        "id": "uVuZkIerw3cD"
      }
    },
    {
      "cell_type": "code",
      "source": [
        "text = \"Hello World\"\n",
        "length = len(text)\n",
        "print(\"Length of the string:\", length)"
      ],
      "metadata": {
        "colab": {
          "base_uri": "https://localhost:8080/"
        },
        "id": "DKsidOGMvNOa",
        "outputId": "74092d50-6397-4f3b-e3fb-071df0a2fb45"
      },
      "execution_count": null,
      "outputs": [
        {
          "output_type": "stream",
          "name": "stdout",
          "text": [
            "Length of the string: 11\n"
          ]
        }
      ]
    },
    {
      "cell_type": "code",
      "source": [
        "text = \"Python Programming\"\n",
        "sliced_text = text[:3]\n",
        "print(\"Sliced text:\", sliced_text)\n"
      ],
      "metadata": {
        "colab": {
          "base_uri": "https://localhost:8080/"
        },
        "id": "vKNHynm8vd-2",
        "outputId": "d69f5cd3-0c08-4475-eaf3-a013e63bbd41"
      },
      "execution_count": null,
      "outputs": [
        {
          "output_type": "stream",
          "name": "stdout",
          "text": [
            "Sliced text: Pyt\n"
          ]
        }
      ]
    },
    {
      "cell_type": "code",
      "source": [
        "text = \"hello\"\n",
        "uppercase_text = text.upper()\n",
        "print(\"Uppercase:\", uppercase_text)"
      ],
      "metadata": {
        "colab": {
          "base_uri": "https://localhost:8080/"
        },
        "id": "7fymCdCDv4VM",
        "outputId": "12ff7231-0ce2-4074-c898-d5b43ad8da59"
      },
      "execution_count": null,
      "outputs": [
        {
          "output_type": "stream",
          "name": "stdout",
          "text": [
            "Uppercase: HELLO\n"
          ]
        }
      ]
    },
    {
      "cell_type": "code",
      "source": [
        "text = \"I like apple\"\n",
        "updated_text = text.replace(\"apple\", \"orange\")\n",
        "print(\"Updated text:\", updated_text)"
      ],
      "metadata": {
        "colab": {
          "base_uri": "https://localhost:8080/"
        },
        "id": "6BJUqGAUv_xw",
        "outputId": "1b90c0ff-f7a9-43a3-c327-9b717834d8f3"
      },
      "execution_count": null,
      "outputs": [
        {
          "output_type": "stream",
          "name": "stdout",
          "text": [
            "Updated text: I like orange\n"
          ]
        }
      ]
    },
    {
      "cell_type": "code",
      "source": [
        "numbers = [1, 2, 3, 4, 5]\n",
        "print(\"List of numbers:\", numbers)"
      ],
      "metadata": {
        "colab": {
          "base_uri": "https://localhost:8080/"
        },
        "id": "ZNNfZ9ZowX5A",
        "outputId": "9f0eb027-e9c9-4760-ff5c-73c81571879e"
      },
      "execution_count": null,
      "outputs": [
        {
          "output_type": "stream",
          "name": "stdout",
          "text": [
            "List of numbers: [1, 2, 3, 4, 5]\n"
          ]
        }
      ]
    },
    {
      "cell_type": "code",
      "source": [
        "numbers = [1, 2, 3, 4]\n",
        "numbers.append(10)\n",
        "print(\"Updated list:\", numbers)"
      ],
      "metadata": {
        "colab": {
          "base_uri": "https://localhost:8080/"
        },
        "id": "cnZfwSYVwgTV",
        "outputId": "355b9e70-b516-4b24-d62f-944576d696e7"
      },
      "execution_count": null,
      "outputs": [
        {
          "output_type": "stream",
          "name": "stdout",
          "text": [
            "Updated list: [1, 2, 3, 4, 10]\n"
          ]
        }
      ]
    },
    {
      "cell_type": "code",
      "source": [
        "numbers = [1, 2, 3, 4, 5]\n",
        "numbers.remove(3)\n",
        "print(\"Updated list:\", numbers)"
      ],
      "metadata": {
        "colab": {
          "base_uri": "https://localhost:8080/"
        },
        "id": "FKJu2KYbwopD",
        "outputId": "e63faba0-4498-423a-ac86-5477925fea36"
      },
      "execution_count": null,
      "outputs": [
        {
          "output_type": "stream",
          "name": "stdout",
          "text": [
            "Updated list: [1, 2, 4, 5]\n"
          ]
        }
      ]
    },
    {
      "cell_type": "code",
      "source": [
        "letters = ['a', 'b', 'c', 'd']\n",
        "second_element = letters[1]  # Index 1 corresponds to the second element\n",
        "print(\"Second element:\", second_element)"
      ],
      "metadata": {
        "colab": {
          "base_uri": "https://localhost:8080/"
        },
        "id": "6BgQwkigwy1k",
        "outputId": "a53a8dab-f498-4297-d48d-6f72b1a15895"
      },
      "execution_count": null,
      "outputs": [
        {
          "output_type": "stream",
          "name": "stdout",
          "text": [
            "Second element: b\n"
          ]
        }
      ]
    },
    {
      "cell_type": "code",
      "source": [
        "numbers = [10, 20, 30, 40, 50]\n",
        "numbers.reverse()\n",
        "print(\"Reversed list:\", numbers)"
      ],
      "metadata": {
        "colab": {
          "base_uri": "https://localhost:8080/"
        },
        "id": "Juj4Vn5Qw-q8",
        "outputId": "3bd743ee-60c0-4486-a337-ec4b35527b08"
      },
      "execution_count": null,
      "outputs": [
        {
          "output_type": "stream",
          "name": "stdout",
          "text": [
            "Reversed list: [50, 40, 30, 20, 10]\n"
          ]
        }
      ]
    },
    {
      "cell_type": "code",
      "source": [
        "numbers = (100, 200, 300)\n",
        "print(\"Tuple:\", numbers)"
      ],
      "metadata": {
        "colab": {
          "base_uri": "https://localhost:8080/"
        },
        "id": "pVcClLE9xAFF",
        "outputId": "bc75b268-5e34-415c-9482-cbdf7cadc35f"
      },
      "execution_count": null,
      "outputs": [
        {
          "output_type": "stream",
          "name": "stdout",
          "text": [
            "Tuple: (100, 200, 300)\n"
          ]
        }
      ]
    },
    {
      "cell_type": "code",
      "source": [
        "colors = ('red', 'green', 'blue', 'yellow')\n",
        "second_to_last = colors[-2]  # Negative index -2 refers to the second-to-last element\n",
        "print(\"Second-to-last element:\", second_to_last)"
      ],
      "metadata": {
        "colab": {
          "base_uri": "https://localhost:8080/"
        },
        "id": "0s9UW6O9xRUS",
        "outputId": "1bacef5b-7d4b-4da4-e5d1-e637ceb229cc"
      },
      "execution_count": null,
      "outputs": [
        {
          "output_type": "stream",
          "name": "stdout",
          "text": [
            "Second-to-last element: blue\n"
          ]
        }
      ]
    },
    {
      "cell_type": "code",
      "source": [
        "numbers = (10, 20, 5, 15)\n",
        "min_number = min(numbers)\n",
        "print(\"Minimum number:\", min_number)"
      ],
      "metadata": {
        "colab": {
          "base_uri": "https://localhost:8080/"
        },
        "id": "3bDMP6_Kxm0k",
        "outputId": "7813ad27-2fec-4738-8148-3a2f236e650e"
      },
      "execution_count": null,
      "outputs": [
        {
          "output_type": "stream",
          "name": "stdout",
          "text": [
            "Minimum number: 5\n"
          ]
        }
      ]
    },
    {
      "cell_type": "code",
      "source": [
        "animals = ('dog', 'cat', 'rabbit')\n",
        "index_of_cat = animals.index('cat')\n",
        "print(\"Index of 'cat':\", index_of_cat)"
      ],
      "metadata": {
        "colab": {
          "base_uri": "https://localhost:8080/"
        },
        "id": "PhrH5rtuxumI",
        "outputId": "3bf14bfa-43b1-4eb6-959a-b9e596aee3da"
      },
      "execution_count": null,
      "outputs": [
        {
          "output_type": "stream",
          "name": "stdout",
          "text": [
            "Index of 'cat': 1\n"
          ]
        }
      ]
    },
    {
      "cell_type": "code",
      "source": [
        "fruits = (\"apple\", \"banana\", \"cherry\")\n",
        "is_kiwi_present = \"kiwi\" in fruits\n",
        "print(\"Is 'kiwi' in the tuple?\", is_kiwi_present)"
      ],
      "metadata": {
        "colab": {
          "base_uri": "https://localhost:8080/"
        },
        "id": "aa7gt-R0x1q6",
        "outputId": "f62361b3-c1a5-4103-e806-2e1083d47c30"
      },
      "execution_count": null,
      "outputs": [
        {
          "output_type": "stream",
          "name": "stdout",
          "text": [
            "Is 'kiwi' in the tuple? False\n"
          ]
        }
      ]
    },
    {
      "cell_type": "code",
      "source": [
        "my_set = {'a', 'b', 'c'}\n",
        "print(\"Set:\", my_set)"
      ],
      "metadata": {
        "colab": {
          "base_uri": "https://localhost:8080/"
        },
        "id": "h41tNAeTyES6",
        "outputId": "b775c925-6280-4b66-8c1d-bcdbbd50f6f5"
      },
      "execution_count": null,
      "outputs": [
        {
          "output_type": "stream",
          "name": "stdout",
          "text": [
            "Set: {'a', 'c', 'b'}\n"
          ]
        }
      ]
    },
    {
      "cell_type": "code",
      "source": [
        "numbers = {1, 2, 3, 4, 5}\n",
        "numbers.clear()\n",
        "print(\"Cleared set:\", numbers)"
      ],
      "metadata": {
        "colab": {
          "base_uri": "https://localhost:8080/"
        },
        "id": "lQdkRH0ayOPr",
        "outputId": "523f1f61-508b-4f50-81e1-018b13597a58"
      },
      "execution_count": null,
      "outputs": [
        {
          "output_type": "stream",
          "name": "stdout",
          "text": [
            "Cleared set: set()\n"
          ]
        }
      ]
    },
    {
      "cell_type": "code",
      "source": [
        "numbers = {1, 2, 3, 4}\n",
        "numbers.remove(4)\n",
        "print(\"Updated set:\", numbers)"
      ],
      "metadata": {
        "colab": {
          "base_uri": "https://localhost:8080/"
        },
        "id": "bMNCyRdwyW4E",
        "outputId": "b0347bbf-51f7-4152-b1b0-d608ff4424da"
      },
      "execution_count": null,
      "outputs": [
        {
          "output_type": "stream",
          "name": "stdout",
          "text": [
            "Updated set: {1, 2, 3}\n"
          ]
        }
      ]
    },
    {
      "cell_type": "code",
      "source": [
        "set1 = {1, 2, 3}\n",
        "set2 = {3, 4, 5}\n",
        "\n",
        "union_set = set1.union(set2)\n",
        "\n",
        "print(\"Union of sets:\", union_set)\n"
      ],
      "metadata": {
        "colab": {
          "base_uri": "https://localhost:8080/"
        },
        "id": "EhEJMrRxycth",
        "outputId": "da10c673-58bc-4991-cfba-7c8afc6c732d"
      },
      "execution_count": null,
      "outputs": [
        {
          "output_type": "stream",
          "name": "stdout",
          "text": [
            "Union of sets: {1, 2, 3, 4, 5}\n"
          ]
        }
      ]
    },
    {
      "cell_type": "code",
      "source": [
        "set1 = {1, 2, 3}\n",
        "set2 = {2, 3, 4}\n",
        "\n",
        "# Using intersection() method\n",
        "intersection_set = set1.intersection(set2)\n",
        "\n",
        "# Using & operator\n",
        "# intersection_set = set1 & set2\n",
        "\n",
        "print(\"Intersection of sets:\", intersection_set)"
      ],
      "metadata": {
        "colab": {
          "base_uri": "https://localhost:8080/"
        },
        "id": "BbiwQnVWytYJ",
        "outputId": "158d60d8-47a3-4551-e8d1-06c72e2f49e2"
      },
      "execution_count": null,
      "outputs": [
        {
          "output_type": "stream",
          "name": "stdout",
          "text": [
            "Intersection of sets: {2, 3}\n"
          ]
        }
      ]
    },
    {
      "cell_type": "code",
      "source": [
        "person = {\n",
        "    \"name\": \"Alice\",\n",
        "    \"age\": 25,\n",
        "    \"city\": \"New York\"\n",
        "}\n",
        "\n",
        "print(\"Dictionary:\", person)"
      ],
      "metadata": {
        "colab": {
          "base_uri": "https://localhost:8080/"
        },
        "id": "aabWn9MPzBWx",
        "outputId": "0043dc73-4d7e-4a58-a4c0-94de7ec3184e"
      },
      "execution_count": null,
      "outputs": [
        {
          "output_type": "stream",
          "name": "stdout",
          "text": [
            "Dictionary: {'name': 'Alice', 'age': 25, 'city': 'New York'}\n"
          ]
        }
      ]
    },
    {
      "cell_type": "code",
      "source": [
        "person = {'name': 'John', 'age': 25}\n",
        "\n",
        "# Adding a new key-value pair\n",
        "person['country'] = 'USA'\n",
        "\n",
        "print(\"Updated dictionary:\", person)"
      ],
      "metadata": {
        "colab": {
          "base_uri": "https://localhost:8080/"
        },
        "id": "hvFG8Df_zQW5",
        "outputId": "c63790ac-b2ed-4bfc-9f62-9c6a6d8e962c"
      },
      "execution_count": null,
      "outputs": [
        {
          "output_type": "stream",
          "name": "stdout",
          "text": [
            "Updated dictionary: {'name': 'John', 'age': 25, 'country': 'USA'}\n"
          ]
        }
      ]
    },
    {
      "cell_type": "code",
      "source": [
        "person = {'name': 'Alice', 'age': 30}\n",
        "\n",
        "# Using square brackets\n",
        "name_value = person['name']\n",
        "\n",
        "# Using get() method (avoids errors if the key doesn't exist)\n",
        "# name_value = person.get('name')\n",
        "\n",
        "print(\"Value of 'name':\", name_value)"
      ],
      "metadata": {
        "colab": {
          "base_uri": "https://localhost:8080/"
        },
        "id": "_p4XdAU-zamq",
        "outputId": "b8d29fc0-45dd-456f-d3ab-dc20bb65d0d3"
      },
      "execution_count": null,
      "outputs": [
        {
          "output_type": "stream",
          "name": "stdout",
          "text": [
            "Value of 'name': Alice\n"
          ]
        }
      ]
    },
    {
      "cell_type": "code",
      "source": [
        "person = {'name': 'Bob', 'age': 22, 'city': 'New York'}\n",
        "\n",
        "# Removing the 'age' key\n",
        "person.pop('age')\n",
        "\n",
        "print(\"Updated dictionary:\", person)"
      ],
      "metadata": {
        "colab": {
          "base_uri": "https://localhost:8080/"
        },
        "id": "yu-F4YxWzmR4",
        "outputId": "3d0a9da4-2384-4660-ac7e-bb12edeca7c5"
      },
      "execution_count": null,
      "outputs": [
        {
          "output_type": "stream",
          "name": "stdout",
          "text": [
            "Updated dictionary: {'name': 'Bob', 'city': 'New York'}\n"
          ]
        }
      ]
    },
    {
      "cell_type": "code",
      "source": [
        "person = {'name': 'Alice', 'city': 'Paris'}\n",
        "\n",
        "# Check if 'city' key exists\n",
        "if 'city' in person:\n",
        "    print(\"Key 'city' exists in the dictionary.\")\n",
        "else:\n",
        "    print(\"Key 'city' does not exist in the dictionary.\")"
      ],
      "metadata": {
        "colab": {
          "base_uri": "https://localhost:8080/"
        },
        "id": "gWAlFI-gzu8N",
        "outputId": "9b583027-7d72-49a2-ace6-1c48c66511ff"
      },
      "execution_count": null,
      "outputs": [
        {
          "output_type": "stream",
          "name": "stdout",
          "text": [
            "Key 'city' exists in the dictionary.\n"
          ]
        }
      ]
    },
    {
      "cell_type": "code",
      "source": [
        "\n",
        "my_list = [1, 2, 3, 4, 5]\n",
        "\n",
        "\n",
        "my_tuple = ('apple', 'banana', 'cherry')\n",
        "\n",
        "\n",
        "my_dict = {'name': 'Alice', 'age': 25, 'city': 'New York'}\n",
        "\n",
        "\n",
        "print(\"List:\", my_list)\n",
        "print(\"Tuple:\", my_tuple)\n",
        "print(\"Dictionary:\", my_dict)\n"
      ],
      "metadata": {
        "colab": {
          "base_uri": "https://localhost:8080/"
        },
        "id": "nksH2xT9z_gi",
        "outputId": "9885fbb6-7d4f-4c34-a284-c59cf73046b8"
      },
      "execution_count": null,
      "outputs": [
        {
          "output_type": "stream",
          "name": "stdout",
          "text": [
            "List: [1, 2, 3, 4, 5]\n",
            "Tuple: ('apple', 'banana', 'cherry')\n",
            "Dictionary: {'name': 'Alice', 'age': 25, 'city': 'New York'}\n"
          ]
        }
      ]
    },
    {
      "cell_type": "code",
      "source": [
        "import random\n",
        "\n",
        "# Generate a list of 5 random numbers between 1 and 100\n",
        "random_numbers = random.sample(range(1, 101), 5)\n",
        "\n",
        "# Sort the list in ascending order\n",
        "random_numbers.sort()\n",
        "\n",
        "# Print the sorted list\n",
        "print(\"Sorted list of random numbers:\", random_numbers)\n"
      ],
      "metadata": {
        "colab": {
          "base_uri": "https://localhost:8080/"
        },
        "id": "wmyeEZ3I0OTI",
        "outputId": "72865e5e-7c3f-4d50-fc8c-77fb03494732"
      },
      "execution_count": null,
      "outputs": [
        {
          "output_type": "stream",
          "name": "stdout",
          "text": [
            "Sorted list of random numbers: [14, 30, 31, 43, 61]\n"
          ]
        }
      ]
    },
    {
      "cell_type": "code",
      "source": [
        "# Creating a list of strings\n",
        "words = [\"apple\", \"banana\", \"cherry\", \"date\", \"elderberry\"]\n",
        "\n",
        "# Accessing the element at index 3 (fourth element)\n",
        "third_index_element = words[3]\n",
        "\n",
        "# Printing the element\n",
        "print(\"Element at index 3:\", third_index_element)\n"
      ],
      "metadata": {
        "colab": {
          "base_uri": "https://localhost:8080/"
        },
        "id": "yTAOdRxA0Vq3",
        "outputId": "dfdd78dc-9152-4c9e-ddcd-3725221dd3c0"
      },
      "execution_count": null,
      "outputs": [
        {
          "output_type": "stream",
          "name": "stdout",
          "text": [
            "Element at index 3: date\n"
          ]
        }
      ]
    },
    {
      "cell_type": "code",
      "source": [
        "dict1 = {'a': 1, 'b': 2}\n",
        "dict2 = {'c': 3, 'd': 4}\n",
        "\n",
        "# Merging dictionaries\n",
        "dict1.update(dict2)\n",
        "\n",
        "print(\"Combined dictionary:\", dict1)"
      ],
      "metadata": {
        "colab": {
          "base_uri": "https://localhost:8080/"
        },
        "id": "pNwRCw3G0c0C",
        "outputId": "9991f5e0-0d71-4280-ba28-1b86ebf3b6a6"
      },
      "execution_count": null,
      "outputs": [
        {
          "output_type": "stream",
          "name": "stdout",
          "text": [
            "Combined dictionary: {'a': 1, 'b': 2, 'c': 3, 'd': 4}\n"
          ]
        }
      ]
    },
    {
      "cell_type": "code",
      "source": [
        "# Creating a list of strings\n",
        "words_list = [\"apple\", \"banana\", \"cherry\", \"apple\", \"banana\"]\n",
        "\n",
        "# Converting the list into a set\n",
        "words_set = set(words_list)\n",
        "\n",
        "# Printing the set\n",
        "print(\"Set of unique words:\", words_set)"
      ],
      "metadata": {
        "colab": {
          "base_uri": "https://localhost:8080/"
        },
        "id": "oTJ3mJZ20j55",
        "outputId": "33ac4812-3550-454b-bf6a-1b66b6955d6d"
      },
      "execution_count": null,
      "outputs": [
        {
          "output_type": "stream",
          "name": "stdout",
          "text": [
            "Set of unique words: {'cherry', 'apple', 'banana'}\n"
          ]
        }
      ]
    },
    {
      "cell_type": "markdown",
      "source": [
        "\n",
        "1. Data structures are ways to organize, store, and manage data efficiently in a computer so that operations like access, modification, and searching can be performed effectively.\n",
        "Why Are Data Structures Important?\n",
        "Efficient Data Management – They help store and retrieve data quickly.\n",
        "Optimized Performance – Choosing the right data structure can improve the efficiency of algorithms.\n",
        "Better Problem Solving – Many real-world problems require structured data representation (e.g., graphs for social networks).\n",
        "Memory Optimization – Proper data structures can reduce memory usage.\n"
      ],
      "metadata": {
        "id": "LFwzZwvBw55J"
      }
    },
    {
      "cell_type": "markdown",
      "source": [
        "2. 1. Mutable Data Types (Can Be Changed)\n",
        "Mutable objects allow modification after creation.\n",
        "Changes occur in place without creating a new object in memory.\n",
        "Examples: list, set, dictionary\n",
        "Immutable Data Types (Cannot Be Changed)\n",
        "Immutable objects cannot be changed after creation.\n",
        "Any modification results in a new object being created.\n",
        "Examples: int, float, tuple, string"
      ],
      "metadata": {
        "id": "yoaoNxe8xktZ"
      }
    },
    {
      "cell_type": "markdown",
      "source": [
        "3. 1. Mutability:\n",
        "The key difference between lists and tuples is that lists are mutable, meaning their elements can be changed, added, or removed after creation. In contrast, tuples are immutable, so once created, their elements cannot be modified.\n",
        "\n",
        " 2.Syntax:\n",
        "Lists are defined using square brackets [], while tuples use parentheses ().\n"
      ],
      "metadata": {
        "id": "bxrHJwI0yGnI"
      }
    },
    {
      "cell_type": "markdown",
      "source": [
        "4. Dictionaries in Python store data as key-value pairs using a hash table internally. Each key is hashed using a hash function, which generates a unique hash code that determines where the value is stored in memory."
      ],
      "metadata": {
        "id": "x49IWBhFyfTq"
      }
    },
    {
      "cell_type": "markdown",
      "source": [
        "5. A set is an unordered collection of unique elements, whereas a list is an ordered collection that allows duplicates."
      ],
      "metadata": {
        "id": "cAuKZXppyrF9"
      }
    },
    {
      "cell_type": "markdown",
      "source": [],
      "metadata": {
        "id": "cABZaQZmyrzh"
      }
    },
    {
      "cell_type": "markdown",
      "source": [
        "6. A string in Python is a sequence of characters enclosed in single ('), double (\"), or triple quotes (''' or \"\"\"). Strings are immutable, meaning their contents cannot be changed after creation.\n",
        "\n",
        "Difference Between a String and a List\n",
        "Mutability:\n",
        "\n",
        "Strings are immutable, meaning you cannot modify their characters directly. Any modification creates a new string.\n",
        "Lists are mutable, so you can change, add, or remove elements.\n",
        "Data Type of Elements:\n",
        "\n",
        "A string consists of characters only.\n",
        "A list can store multiple data types (numbers, strings, booleans, etc.).\n",
        "\n",
        "Operations:\n",
        "\n",
        "Strings support string-specific operations like .upper(), .lower(), .replace(), and concatenation (+).\n",
        "Lists support operations like .append(), .remove(), .sort(), and slicing.\n",
        "Memory Efficiency:\n",
        "\n",
        "Strings take up less memory than lists when storing characters because they are stored in a contiguous block.\n",
        "Lists require more memory because they can hold multiple data types.\n",
        "\n"
      ],
      "metadata": {
        "id": "Brju-z96ys_2"
      }
    },
    {
      "cell_type": "markdown",
      "source": [
        "7.Tuples in Python ensure data integrity primarily through immutability. Once a tuple is created, its contents cannot be changed, which helps maintain consistency and prevents accidental modifications.\n"
      ],
      "metadata": {
        "id": "ULse08G82WAA"
      }
    },
    {
      "cell_type": "markdown",
      "source": [
        "8. A hash table is a data structure that stores key-value pairs and allows for fast lookups, insertions, and deletions. It uses a hash function to compute an index (or hash code) for each key, mapping it to a specific memory location. This enables quick access to values in O(1) average time complexity.\n",
        "\n",
        "In Python, dictionaries (dict) are implemented using hash tables, making them highly efficient for key-based lookups.\n"
      ],
      "metadata": {
        "id": "_foPC0ok26GV"
      }
    },
    {
      "cell_type": "markdown",
      "source": [
        "9. Yes,Lists in Python can store different data types within the same list. Unlike arrays in some other programming languages that require all elements to be of the same type, Python lists are heterogeneous, meaning they can contain a mix of:\n",
        "\n",
        "Integers (int)\n",
        "Floating-point numbers (float)\n",
        "Strings (str)\n",
        "Booleans (bool)\n",
        "Other lists (nested lists)\n",
        "Dictionaries, tuples, sets, or even functions"
      ],
      "metadata": {
        "id": "6tLEou6z3l9f"
      }
    },
    {
      "cell_type": "markdown",
      "source": [
        "10. In Python, strings are immutable, meaning their contents cannot be changed after creation. If you try to modify a string, Python creates a new string object instead of altering the original one.\n",
        "Reasons for String Immutability\n",
        "1. Memory Efficiency (String Interning)\n",
        "Python interns small strings, meaning identical strings may share the same memory location to save space.\n",
        "If strings were mutable, changing one string could affect all other references, leading to unexpected behavior.\n",
        "2. Performance Optimization\n",
        "Immutable objects allow Python to use caching and optimizations, making string operations faster and more memory-efficient.\n",
        "3. Hashability (Used in Dictionaries & Sets)\n",
        "Strings are hashable and can be used as dictionary keys or set elements.\n",
        "If strings were mutable, their hash values could change, breaking key-value mappings.\n",
        "4. Security & Thread Safety\n",
        "Since strings cannot be changed, they are safe to use in multi-threaded applications.\n",
        "Example: If passwords were mutable, they could be altered during execution, leading to security risks."
      ],
      "metadata": {
        "id": "uP61Nqb243gs"
      }
    },
    {
      "cell_type": "markdown",
      "source": [
        "11. Dictionaries (dict) and lists (list) are both powerful data structures in Python, but dictionaries offer key advantages in specific scenarios where fast lookups, structured data storage, and efficient retrieval are needed.*italicised text*"
      ],
      "metadata": {
        "id": "P8BxoYfU6x3W"
      }
    },
    {
      "cell_type": "markdown",
      "source": [
        "12. A tuple is preferable over a list when you need to store fixed, immutable data that should not change during program execution.\n",
        "\n",
        "Imagine you are building a mapping application that stores geographical coordinates (latitude, longitude). Since coordinates should remain constant after they are recorded, a tuple is the ideal choice."
      ],
      "metadata": {
        "id": "zSTX2HgS9v4Y"
      }
    },
    {
      "cell_type": "markdown",
      "source": [
        "13. In Python, sets automatically eliminate duplicate values when elements are added. This is because sets are implemented using hash tables, which only store unique elements."
      ],
      "metadata": {
        "id": "ku9O38rP81z-"
      }
    },
    {
      "cell_type": "markdown",
      "source": [
        "14. The in keyword is used to check for membership in both lists and dictionaries, but it works differently in each case due to how data is stored and accessed.\n",
        "\n"
      ],
      "metadata": {
        "id": "6R3SnUgC8Idj"
      }
    },
    {
      "cell_type": "markdown",
      "source": [
        "15. No, you cannot modify the elements of a tuple because tuples are immutable in Python. This means that once a tuple is created, its elements cannot be changed, added, or removed.\n",
        "Tuples are stored in a fixed memory structure, which makes them more efficient than lists.\n",
        "Since tuples are immutable, they can be used as dictionary keys or set elements, unlike lists.\n"
      ],
      "metadata": {
        "id": "I8zNZyiA_2Dn"
      }
    },
    {
      "cell_type": "markdown",
      "source": [
        "16.A nested dictionary is a dictionary inside another dictionary, allowing data to be stored in a hierarchical (tree-like) structure. Each key in the outer dictionary can have another dictionary as its value.\n",
        "\n",
        "> Add blockquote\n",
        "\n",
        "\n",
        "\n",
        "A company may store employee data where each employee has multiple attributes (name, age, department, salary), making a nested dictionary a suitable choice.\n"
      ],
      "metadata": {
        "id": "3092VU_YBSRl"
      }
    },
    {
      "cell_type": "markdown",
      "source": [
        "17. Dictionaries in Python use hash tables, allowing for fast element access based on keys. The time complexity depends on whether the key exists and how Python handles hash collisions.\n"
      ],
      "metadata": {
        "id": "X5yu6x1MCTMu"
      }
    },
    {
      "cell_type": "markdown",
      "source": [
        "18.Maintaining Order (Preserving Sequence of Elements)\n",
        "Lists maintain the order of elements by default, whereas dictionaries  did not guarantee order.\n",
        "If you need to access elements by position (index), a list is the better choice."
      ],
      "metadata": {
        "id": "_zSfCZhsDIpi"
      }
    },
    {
      "cell_type": "markdown",
      "source": [
        "19. In Python versions , dictionaries (dict) were unordered, meaning they did not maintain the order in which items were inserted. This was because they were implemented using hash tables, where elements were stored based on their hashed key values, not their insertion sequence."
      ],
      "metadata": {
        "id": "6Lq-_UWdDogT"
      }
    },
    {
      "cell_type": "markdown",
      "source": [
        "20. In a list, elements are retrieved using index-based access, meaning each item has a specific position (O(1) access time). However, searching for a specific value within a list requires a linear search (O(n)), as Python must iterate through the list to find the matching element. This makes lists less efficient when performing lookups based on values.\n",
        "\n",
        "On the other hand, a dictionary allows key-based retrieval, where each key is hashed to find its associated value. This provides an average time complexity of O(1), making dictionaries significantly faster for lookups compared to lists. Unlike lists, dictionaries do not support index-based access, meaning elements cannot be retrieved by their position but only by their unique keys.\n",
        "\n"
      ],
      "metadata": {
        "id": "eDwPs6_TEBx_"
      }
    },
    {
      "cell_type": "code",
      "source": [],
      "metadata": {
        "id": "2j_qt3OsAJFE"
      },
      "execution_count": null,
      "outputs": []
    }
  ]
}