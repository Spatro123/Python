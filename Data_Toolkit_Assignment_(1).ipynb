{
  "cells": [
    {
      "cell_type": "markdown",
      "metadata": {
        "id": "view-in-github",
        "colab_type": "text"
      },
      "source": [
        "<a href=\"https://colab.research.google.com/github/Spatro123/Python/blob/main/Data_Toolkit_Assignment_(1).ipynb\" target=\"_parent\"><img src=\"https://colab.research.google.com/assets/colab-badge.svg\" alt=\"Open In Colab\"/></a>"
      ]
    },
    {
      "cell_type": "markdown",
      "id": "4c9d5737",
      "metadata": {
        "id": "4c9d5737"
      },
      "source": [
        "### Q1. What is NumPy, and why is it widely used in Python?\n",
        "NumPy is a Python library for numerical computing. It provides:\n",
        "- Multi-dimensional arrays\n",
        "- Mathematical functions\n",
        "- Linear algebra, Fourier transform, statistics\n",
        "\n",
        "It’s widely used because it is fast (C-based), memory-efficient, and integrates well with other libraries like Pandas, Matplotlib, and Scikit-learn."
      ]
    },
    {
      "cell_type": "markdown",
      "id": "06c5e0d9",
      "metadata": {
        "id": "06c5e0d9"
      },
      "source": [
        "### Q2. How does broadcasting work in NumPy?\n",
        "Broadcasting allows NumPy to perform arithmetic operations on arrays of different shapes by “stretching” the smaller array without copying data.\n",
        "\n",
        "Example: A (3,1) array added to a (1,3) array → results in a (3,3) array."
      ]
    },
    {
      "cell_type": "markdown",
      "id": "219b30e9",
      "metadata": {
        "id": "219b30e9"
      },
      "source": [
        "### Q3. What is a Pandas DataFrame?\n",
        "A Pandas **DataFrame** is a 2D labeled data structure like a table with rows and columns. It is widely used for data manipulation, cleaning, and analysis."
      ]
    },
    {
      "cell_type": "markdown",
      "id": "f54a6e38",
      "metadata": {
        "id": "f54a6e38"
      },
      "source": [
        "### Q4. Explain the use of the groupby() method in Pandas\n",
        "`groupby()` is used to split data into groups based on one or more keys, then apply functions (sum, mean, count, etc.).\n",
        "\n",
        "Example: df.groupby('Category')['Sales'].sum()"
      ]
    },
    {
      "cell_type": "markdown",
      "id": "953f659f",
      "metadata": {
        "id": "953f659f"
      },
      "source": [
        "### Q5. Why is Seaborn preferred for statistical visualizations?\n",
        "- Built on Matplotlib, but easier to use.\n",
        "- Provides built-in statistical plots (boxplot, violinplot, heatmap).\n",
        "- Integrates with Pandas DataFrames directly."
      ]
    },
    {
      "cell_type": "markdown",
      "id": "0678b0dd",
      "metadata": {
        "id": "0678b0dd"
      },
      "source": [
        "### Q6. What are the differences between NumPy arrays and Python lists?\n",
        "- NumPy arrays are homogeneous (single data type), lists can hold mixed types.\n",
        "- Arrays are faster and memory-efficient.\n",
        "- Arrays support vectorized operations, lists don’t."
      ]
    },
    {
      "cell_type": "markdown",
      "id": "d1d61e77",
      "metadata": {
        "id": "d1d61e77"
      },
      "source": [
        "### Q7. What is a heatmap, and when should it be used?\n",
        "A heatmap is a 2D visualization using colors to represent values.\n",
        "Use it to show correlation matrices, frequencies, or intensity."
      ]
    },
    {
      "cell_type": "markdown",
      "id": "67f59f25",
      "metadata": {
        "id": "67f59f25"
      },
      "source": [
        "### Q8. What does the term “vectorized operation” mean in NumPy?\n",
        "Vectorized operations apply an operation to all elements of an array at once without explicit loops, making code faster and cleaner."
      ]
    },
    {
      "cell_type": "markdown",
      "id": "65534916",
      "metadata": {
        "id": "65534916"
      },
      "source": [
        "### Q9. How does Matplotlib differ from Plotly?\n",
        "- **Matplotlib**: Static, widely used, simple plots.\n",
        "- **Plotly**: Interactive, web-based, supports zooming/hovering."
      ]
    },
    {
      "cell_type": "markdown",
      "id": "ae7b7302",
      "metadata": {
        "id": "ae7b7302"
      },
      "source": [
        "### Q10. What is the significance of hierarchical indexing in Pandas?\n",
        "It allows multiple levels of indexing (multi-indexing). Useful for high-dimensional data analysis."
      ]
    },
    {
      "cell_type": "markdown",
      "id": "2b41dd46",
      "metadata": {
        "id": "2b41dd46"
      },
      "source": [
        "### Q11. What is the role of Seaborn’s pairplot() function?\n",
        "`pairplot()` visualizes pairwise relationships between numeric variables in a dataset using scatter plots and histograms."
      ]
    },
    {
      "cell_type": "markdown",
      "id": "e5b378a3",
      "metadata": {
        "id": "e5b378a3"
      },
      "source": [
        "### Q12. What is the purpose of the describe() function in Pandas?\n",
        "Provides summary statistics (count, mean, std, min, quartiles, max)."
      ]
    },
    {
      "cell_type": "markdown",
      "id": "1ec0ab70",
      "metadata": {
        "id": "1ec0ab70"
      },
      "source": [
        "### Q13. Why is handling missing data important in Pandas?\n",
        "Missing data can bias analysis and models. Handling ensures accurate results."
      ]
    },
    {
      "cell_type": "markdown",
      "id": "0efe1340",
      "metadata": {
        "id": "0efe1340"
      },
      "source": [
        "### Q14. What are the benefits of using Plotly for data visualization?\n",
        "- Interactive plots (hover, zoom, pan).\n",
        "- Easy integration with Dash for dashboards.\n",
        "- Web-friendly visualizations."
      ]
    },
    {
      "cell_type": "markdown",
      "id": "0bacf033",
      "metadata": {
        "id": "0bacf033"
      },
      "source": [
        "### Q15. How does NumPy handle multidimensional arrays?\n",
        "NumPy supports n-dimensional arrays (`ndarray`) with efficient indexing, slicing, and operations."
      ]
    },
    {
      "cell_type": "markdown",
      "id": "4b01346d",
      "metadata": {
        "id": "4b01346d"
      },
      "source": [
        "### Q16. What is the role of Bokeh in data visualization?\n",
        "Bokeh is a Python library for creating interactive visualizations for the web (HTML/JS)."
      ]
    },
    {
      "cell_type": "markdown",
      "id": "b1dff7b3",
      "metadata": {
        "id": "b1dff7b3"
      },
      "source": [
        "### Q17. Explain the difference between apply() and map() in Pandas\n",
        "- **map()**: Element-wise transformation on Series.\n",
        "- **apply()**: Apply a function on rows/columns of a DataFrame."
      ]
    },
    {
      "cell_type": "markdown",
      "id": "9d46fe5b",
      "metadata": {
        "id": "9d46fe5b"
      },
      "source": [
        "### Q18. What are some advanced features of NumPy?\n",
        "- Broadcasting\n",
        "- Vectorization\n",
        "- Linear algebra (matrix decomposition, eigenvalues)\n",
        "- Random number generation\n",
        "- FFT (Fast Fourier Transform)"
      ]
    },
    {
      "cell_type": "markdown",
      "id": "53ba9824",
      "metadata": {
        "id": "53ba9824"
      },
      "source": [
        "### Q19. How does Pandas simplify time series analysis?\n",
        "- Built-in datetime support\n",
        "- Resampling (`resample()`)\n",
        "- Rolling windows (`rolling()`)\n",
        "- Easy indexing with datetime objects"
      ]
    },
    {
      "cell_type": "markdown",
      "id": "25421157",
      "metadata": {
        "id": "25421157"
      },
      "source": [
        "### Q20. What is the role of a pivot table in Pandas?\n",
        "Pivot tables reshape data, summarizing values with aggregations.\n",
        "\n",
        "Example: pd.pivot_table(df, values='Sales', index='Region', columns='Product', aggfunc='sum')"
      ]
    },
    {
      "cell_type": "markdown",
      "id": "5c8ba350",
      "metadata": {
        "id": "5c8ba350"
      },
      "source": [
        "### Q21. Why is NumPy’s array slicing faster than Python’s list slicing?\n",
        "- Arrays are stored in contiguous memory blocks.\n",
        "- Implemented in C for performance.\n",
        "- Lists are objects and less efficient."
      ]
    },
    {
      "cell_type": "markdown",
      "id": "57dfbdfb",
      "metadata": {
        "id": "57dfbdfb"
      },
      "source": [
        "### Q22. What are some common use cases for Seaborn?\n",
        "- Distribution plots (hist, kdeplot)\n",
        "- Relationship plots (scatter, lineplot)\n",
        "- Categorical plots (bar, box, violin)\n",
        "- Correlation heatmaps"
      ]
    },
    {
      "cell_type": "markdown",
      "id": "fc16ddbd",
      "metadata": {
        "id": "fc16ddbd"
      },
      "source": [
        "# Q1. Create a 2D NumPy array and calculate the sum of each row"
      ]
    },
    {
      "cell_type": "code",
      "execution_count": 1,
      "id": "98f1090d",
      "metadata": {
        "colab": {
          "base_uri": "https://localhost:8080/"
        },
        "id": "98f1090d",
        "outputId": "3f73ac4e-36a8-4596-ae31-b08d3efc1eaa"
      },
      "outputs": [
        {
          "output_type": "stream",
          "name": "stdout",
          "text": [
            "Array:\n",
            " [[1 2 3]\n",
            " [4 5 6]\n",
            " [7 8 9]]\n",
            "Row sums: [ 6 15 24]\n"
          ]
        }
      ],
      "source": [
        "import numpy as np\n",
        "\n",
        "arr = np.array([[1, 2, 3], [4, 5, 6], [7, 8, 9]])\n",
        "row_sum = arr.sum(axis=1)\n",
        "print(\"Array:\\n\", arr)\n",
        "print(\"Row sums:\", row_sum)"
      ]
    },
    {
      "cell_type": "markdown",
      "id": "29ae48d5",
      "metadata": {
        "id": "29ae48d5"
      },
      "source": [
        "# Q2. Write a Pandas script to find the mean of a specific column"
      ]
    },
    {
      "cell_type": "code",
      "execution_count": 2,
      "id": "79237e1e",
      "metadata": {
        "colab": {
          "base_uri": "https://localhost:8080/"
        },
        "id": "79237e1e",
        "outputId": "7bf33fea-2ed3-40a9-ebb5-dcef1601a7ce"
      },
      "outputs": [
        {
          "output_type": "stream",
          "name": "stdout",
          "text": [
            "Mean of Score column: 84.33333333333333\n"
          ]
        }
      ],
      "source": [
        "import pandas as pd\n",
        "\n",
        "data = {'Name': ['A', 'B', 'C'], 'Score': [85, 90, 78]}\n",
        "df = pd.DataFrame(data)\n",
        "print(\"Mean of Score column:\", df['Score'].mean())"
      ]
    },
    {
      "cell_type": "markdown",
      "id": "78e4fe2f",
      "metadata": {
        "id": "78e4fe2f"
      },
      "source": [
        "# Q3. Create a scatter plot using Matplotlib"
      ]
    },
    {
      "cell_type": "code",
      "execution_count": 3,
      "id": "22292838",
      "metadata": {
        "colab": {
          "base_uri": "https://localhost:8080/",
          "height": 472
        },
        "id": "22292838",
        "outputId": "4375eb1b-497a-4dd7-f215-a4c774d17534"
      },
      "outputs": [
        {
          "output_type": "display_data",
          "data": {
            "text/plain": [
              "<Figure size 640x480 with 1 Axes>"
            ],
            "image/png": "[encoded data removed]"
          },
          "metadata": {}
        }
      ],
      "source": [
        "import matplotlib.pyplot as plt\n",
        "\n",
        "x = [1,2,3,4,5]\n",
        "y = [2,4,6,8,10]\n",
        "\n",
        "plt.scatter(x,y)\n",
        "plt.title(\"Scatter Plot Example\")\n",
        "plt.xlabel(\"X-axis\")\n",
        "plt.ylabel(\"Y-axis\")\n",
        "plt.show()"
      ]
    },
    {
      "cell_type": "markdown",
      "id": "6ad0fbca",
      "metadata": {
        "id": "6ad0fbca"
      },
      "source": [
        "# Q4. Calculate correlation matrix using Seaborn and visualize with heatmap"
      ]
    },
    {
      "cell_type": "code",
      "execution_count": 4,
      "id": "47b82703",
      "metadata": {
        "colab": {
          "base_uri": "https://localhost:8080/",
          "height": 435
        },
        "id": "47b82703",
        "outputId": "07e77e20-c704-4908-c2ab-c114866ad3ee"
      },
      "outputs": [
        {
          "output_type": "display_data",
          "data": {
            "text/plain": [
              "<Figure size 640x480 with 2 Axes>"
            ],
            "image/png": "[encoded data removed]"
          },
          "metadata": {}
        }
      ],
      "source": [
        "import seaborn as sns\n",
        "\n",
        "df = pd.DataFrame({\n",
        "    'A':[1,2,3,4,5],\n",
        "    'B':[5,4,3,2,1],\n",
        "    'C':[2,3,4,5,6]\n",
        "})\n",
        "corr = df.corr()\n",
        "sns.heatmap(corr, annot=True, cmap=\"coolwarm\")\n",
        "plt.show()"
      ]
    },
    {
      "cell_type": "markdown",
      "id": "58076d4a",
      "metadata": {
        "id": "58076d4a"
      },
      "source": [
        "# Q5. Generate a bar plot using Plotly"
      ]
    },
    {
      "cell_type": "code",
      "execution_count": 5,
      "id": "ed58f718",
      "metadata": {
        "colab": {
          "base_uri": "https://localhost:8080/",
          "height": 542
        },
        "id": "ed58f718",
        "outputId": "4c0d2dd9-8321-4ae2-f469-4fc2ad5c533d"
      },
      "outputs": [
        {
          "output_type": "display_data",
          "data": {
            "text/html": [
              "<html>\n",
              "<head><meta charset=\"utf-8\" /></head>\n",
              "<body>\n",
              "    <div>            <script src=\"https://cdnjs.cloudflare.com/ajax/libs/mathjax/2.7.5/MathJax.js?config=TeX-AMS-MML_SVG\"></script><script type=\"text/javascript\">if (window.MathJax && window.MathJax.Hub && window.MathJax.Hub.Config) {window.MathJax.Hub.Config({SVG: {font: \"STIX-Web\"}});}</script>                <script type=\"text/javascript\">window.PlotlyConfig = {MathJaxConfig: 'local'};</script>\n",
              "        <script charset=\"utf-8\" src=\"https://cdn.plot.ly/plotly-2.35.2.min.js\"></script>                <div id=\"cb6130a8-7618-4d40-b833-d962085d3658\" class=\"plotly-graph-div\" style=\"height:525px; width:100%;\"></div>            <script type=\"text/javascript\">                                    window.PLOTLYENV=window.PLOTLYENV || {};                                    if (document.getElementById(\"cb6130a8-7618-4d40-b833-d962085d3658\")) {                    Plotly.newPlot(                        \"cb6130a8-7618-4d40-b833-d962085d3658\",                        [{\"alignmentgroup\":\"True\",\"hovertemplate\":\"Fruit=%{x}\\u003cbr\\u003eCount=%{y}\\u003cextra\\u003e\\u003c\\u002fextra\\u003e\",\"legendgroup\":\"\",\"marker\":{\"color\":\"#636efa\",\"pattern\":{\"shape\":\"\"}},\"name\":\"\",\"offsetgroup\":\"\",\"orientation\":\"v\",\"showlegend\":false,\"textposition\":\"auto\",\"x\":[\"Apple\",\"Banana\",\"Mango\"],\"xaxis\":\"x\",\"y\":[10,20,15],\"yaxis\":\"y\",\"type\":\"bar\"}],                        {\"template\":{\"data\":{\"histogram2dcontour\":[{\"type\":\"histogram2dcontour\",\"colorbar\":{\"outlinewidth\":0,\"ticks\":\"\"},\"colorscale\":[[0.0,\"#0d0887\"],[0.1111111111111111,\"#46039f\"],[0.2222222222222222,\"#7201a8\"],[0.3333333333333333,\"#9c179e\"],[0.4444444444444444,\"#bd3786\"],[0.5555555555555556,\"#d8576b\"],[0.6666666666666666,\"#ed7953\"],[0.7777777777777778,\"#fb9f3a\"],[0.8888888888888888,\"#fdca26\"],[1.0,\"#f0f921\"]]}],\"choropleth\":[{\"type\":\"choropleth\",\"colorbar\":{\"outlinewidth\":0,\"ticks\":\"\"}}],\"histogram2d\":[{\"type\":\"histogram2d\",\"colorbar\":{\"outlinewidth\":0,\"ticks\":\"\"},\"colorscale\":[[0.0,\"#0d0887\"],[0.1111111111111111,\"#46039f\"],[0.2222222222222222,\"#7201a8\"],[0.3333333333333333,\"#9c179e\"],[0.4444444444444444,\"#bd3786\"],[0.5555555555555556,\"#d8576b\"],[0.6666666666666666,\"#ed7953\"],[0.7777777777777778,\"#fb9f3a\"],[0.8888888888888888,\"#fdca26\"],[1.0,\"#f0f921\"]]}],\"heatmap\":[{\"type\":\"heatmap\",\"colorbar\":{\"outlinewidth\":0,\"ticks\":\"\"},\"colorscale\":[[0.0,\"#0d0887\"],[0.1111111111111111,\"#46039f\"],[0.2222222222222222,\"#7201a8\"],[0.3333333333333333,\"#9c179e\"],[0.4444444444444444,\"#bd3786\"],[0.5555555555555556,\"#d8576b\"],[0.6666666666666666,\"#ed7953\"],[0.7777777777777778,\"#fb9f3a\"],[0.8888888888888888,\"#fdca26\"],[1.0,\"#f0f921\"]]}],\"heatmapgl\":[{\"type\":\"heatmapgl\",\"colorbar\":{\"outlinewidth\":0,\"ticks\":\"\"},\"colorscale\":[[0.0,\"#0d0887\"],[0.1111111111111111,\"#46039f\"],[0.2222222222222222,\"#7201a8\"],[0.3333333333333333,\"#9c179e\"],[0.4444444444444444,\"#bd3786\"],[0.5555555555555556,\"#d8576b\"],[0.6666666666666666,\"#ed7953\"],[0.7777777777777778,\"#fb9f3a\"],[0.8888888888888888,\"#fdca26\"],[1.0,\"#f0f921\"]]}],\"contourcarpet\":[{\"type\":\"contourcarpet\",\"colorbar\":{\"outlinewidth\":0,\"ticks\":\"\"}}],\"contour\":[{\"type\":\"contour\",\"colorbar\":{\"outlinewidth\":0,\"ticks\":\"\"},\"colorscale\":[[0.0,\"#0d0887\"],[0.1111111111111111,\"#46039f\"],[0.2222222222222222,\"#7201a8\"],[0.3333333333333333,\"#9c179e\"],[0.4444444444444444,\"#bd3786\"],[0.5555555555555556,\"#d8576b\"],[0.6666666666666666,\"#ed7953\"],[0.7777777777777778,\"#fb9f3a\"],[0.8888888888888888,\"#fdca26\"],[1.0,\"#f0f921\"]]}],\"surface\":[{\"type\":\"surface\",\"colorbar\":{\"outlinewidth\":0,\"ticks\":\"\"},\"colorscale\":[[0.0,\"#0d0887\"],[0.1111111111111111,\"#46039f\"],[0.2222222222222222,\"#7201a8\"],[0.3333333333333333,\"#9c179e\"],[0.4444444444444444,\"#bd3786\"],[0.5555555555555556,\"#d8576b\"],[0.6666666666666666,\"#ed7953\"],[0.7777777777777778,\"#fb9f3a\"],[0.8888888888888888,\"#fdca26\"],[1.0,\"#f0f921\"]]}],\"mesh3d\":[{\"type\":\"mesh3d\",\"colorbar\":{\"outlinewidth\":0,\"ticks\":\"\"}}],\"scatter\":[{\"fillpattern\":{\"fillmode\":\"overlay\",\"size\":10,\"solidity\":0.2},\"type\":\"scatter\"}],\"parcoords\":[{\"type\":\"parcoords\",\"line\":{\"colorbar\":{\"outlinewidth\":0,\"ticks\":\"\"}}}],\"scatterpolargl\":[{\"type\":\"scatterpolargl\",\"marker\":{\"colorbar\":{\"outlinewidth\":0,\"ticks\":\"\"}}}],\"bar\":[{\"error_x\":{\"color\":\"#2a3f5f\"},\"error_y\":{\"color\":\"#2a3f5f\"},\"marker\":{\"line\":{\"color\":\"#E5ECF6\",\"width\":0.5},\"pattern\":{\"fillmode\":\"overlay\",\"size\":10,\"solidity\":0.2}},\"type\":\"bar\"}],\"scattergeo\":[{\"type\":\"scattergeo\",\"marker\":{\"colorbar\":{\"outlinewidth\":0,\"ticks\":\"\"}}}],\"scatterpolar\":[{\"type\":\"scatterpolar\",\"marker\":{\"colorbar\":{\"outlinewidth\":0,\"ticks\":\"\"}}}],\"histogram\":[{\"marker\":{\"pattern\":{\"fillmode\":\"overlay\",\"size\":10,\"solidity\":0.2}},\"type\":\"histogram\"}],\"scattergl\":[{\"type\":\"scattergl\",\"marker\":{\"colorbar\":{\"outlinewidth\":0,\"ticks\":\"\"}}}],\"scatter3d\":[{\"type\":\"scatter3d\",\"line\":{\"colorbar\":{\"outlinewidth\":0,\"ticks\":\"\"}},\"marker\":{\"colorbar\":{\"outlinewidth\":0,\"ticks\":\"\"}}}],\"scattermapbox\":[{\"type\":\"scattermapbox\",\"marker\":{\"colorbar\":{\"outlinewidth\":0,\"ticks\":\"\"}}}],\"scatterternary\":[{\"type\":\"scatterternary\",\"marker\":{\"colorbar\":{\"outlinewidth\":0,\"ticks\":\"\"}}}],\"scattercarpet\":[{\"type\":\"scattercarpet\",\"marker\":{\"colorbar\":{\"outlinewidth\":0,\"ticks\":\"\"}}}],\"carpet\":[{\"aaxis\":{\"endlinecolor\":\"#2a3f5f\",\"gridcolor\":\"white\",\"linecolor\":\"white\",\"minorgridcolor\":\"white\",\"startlinecolor\":\"#2a3f5f\"},\"baxis\":{\"endlinecolor\":\"#2a3f5f\",\"gridcolor\":\"white\",\"linecolor\":\"white\",\"minorgridcolor\":\"white\",\"startlinecolor\":\"#2a3f5f\"},\"type\":\"carpet\"}],\"table\":[{\"cells\":{\"fill\":{\"color\":\"#EBF0F8\"},\"line\":{\"color\":\"white\"}},\"header\":{\"fill\":{\"color\":\"#C8D4E3\"},\"line\":{\"color\":\"white\"}},\"type\":\"table\"}],\"barpolar\":[{\"marker\":{\"line\":{\"color\":\"#E5ECF6\",\"width\":0.5},\"pattern\":{\"fillmode\":\"overlay\",\"size\":10,\"solidity\":0.2}},\"type\":\"barpolar\"}],\"pie\":[{\"automargin\":true,\"type\":\"pie\"}]},\"layout\":{\"autotypenumbers\":\"strict\",\"colorway\":[\"#636efa\",\"#EF553B\",\"#00cc96\",\"#ab63fa\",\"#FFA15A\",\"#19d3f3\",\"#FF6692\",\"#B6E880\",\"#FF97FF\",\"#FECB52\"],\"font\":{\"color\":\"#2a3f5f\"},\"hovermode\":\"closest\",\"hoverlabel\":{\"align\":\"left\"},\"paper_bgcolor\":\"white\",\"plot_bgcolor\":\"#E5ECF6\",\"polar\":{\"bgcolor\":\"#E5ECF6\",\"angularaxis\":{\"gridcolor\":\"white\",\"linecolor\":\"white\",\"ticks\":\"\"},\"radialaxis\":{\"gridcolor\":\"white\",\"linecolor\":\"white\",\"ticks\":\"\"}},\"ternary\":{\"bgcolor\":\"#E5ECF6\",\"aaxis\":{\"gridcolor\":\"white\",\"linecolor\":\"white\",\"ticks\":\"\"},\"baxis\":{\"gridcolor\":\"white\",\"linecolor\":\"white\",\"ticks\":\"\"},\"caxis\":{\"gridcolor\":\"white\",\"linecolor\":\"white\",\"ticks\":\"\"}},\"coloraxis\":{\"colorbar\":{\"outlinewidth\":0,\"ticks\":\"\"}},\"colorscale\":{\"sequential\":[[0.0,\"#0d0887\"],[0.1111111111111111,\"#46039f\"],[0.2222222222222222,\"#7201a8\"],[0.3333333333333333,\"#9c179e\"],[0.4444444444444444,\"#bd3786\"],[0.5555555555555556,\"#d8576b\"],[0.6666666666666666,\"#ed7953\"],[0.7777777777777778,\"#fb9f3a\"],[0.8888888888888888,\"#fdca26\"],[1.0,\"#f0f921\"]],\"sequentialminus\":[[0.0,\"#0d0887\"],[0.1111111111111111,\"#46039f\"],[0.2222222222222222,\"#7201a8\"],[0.3333333333333333,\"#9c179e\"],[0.4444444444444444,\"#bd3786\"],[0.5555555555555556,\"#d8576b\"],[0.6666666666666666,\"#ed7953\"],[0.7777777777777778,\"#fb9f3a\"],[0.8888888888888888,\"#fdca26\"],[1.0,\"#f0f921\"]],\"diverging\":[[0,\"#8e0152\"],[0.1,\"#c51b7d\"],[0.2,\"#de77ae\"],[0.3,\"#f1b6da\"],[0.4,\"#fde0ef\"],[0.5,\"#f7f7f7\"],[0.6,\"#e6f5d0\"],[0.7,\"#b8e186\"],[0.8,\"#7fbc41\"],[0.9,\"#4d9221\"],[1,\"#276419\"]]},\"xaxis\":{\"gridcolor\":\"white\",\"linecolor\":\"white\",\"ticks\":\"\",\"title\":{\"standoff\":15},\"zerolinecolor\":\"white\",\"automargin\":true,\"zerolinewidth\":2},\"yaxis\":{\"gridcolor\":\"white\",\"linecolor\":\"white\",\"ticks\":\"\",\"title\":{\"standoff\":15},\"zerolinecolor\":\"white\",\"automargin\":true,\"zerolinewidth\":2},\"scene\":{\"xaxis\":{\"backgroundcolor\":\"#E5ECF6\",\"gridcolor\":\"white\",\"linecolor\":\"white\",\"showbackground\":true,\"ticks\":\"\",\"zerolinecolor\":\"white\",\"gridwidth\":2},\"yaxis\":{\"backgroundcolor\":\"#E5ECF6\",\"gridcolor\":\"white\",\"linecolor\":\"white\",\"showbackground\":true,\"ticks\":\"\",\"zerolinecolor\":\"white\",\"gridwidth\":2},\"zaxis\":{\"backgroundcolor\":\"#E5ECF6\",\"gridcolor\":\"white\",\"linecolor\":\"white\",\"showbackground\":true,\"ticks\":\"\",\"zerolinecolor\":\"white\",\"gridwidth\":2}},\"shapedefaults\":{\"line\":{\"color\":\"#2a3f5f\"}},\"annotationdefaults\":{\"arrowcolor\":\"#2a3f5f\",\"arrowhead\":0,\"arrowwidth\":1},\"geo\":{\"bgcolor\":\"white\",\"landcolor\":\"#E5ECF6\",\"subunitcolor\":\"white\",\"showland\":true,\"showlakes\":true,\"lakecolor\":\"white\"},\"title\":{\"x\":0.05},\"mapbox\":{\"style\":\"light\"}}},\"xaxis\":{\"anchor\":\"y\",\"domain\":[0.0,1.0],\"title\":{\"text\":\"Fruit\"}},\"yaxis\":{\"anchor\":\"x\",\"domain\":[0.0,1.0],\"title\":{\"text\":\"Count\"}},\"legend\":{\"tracegroupgap\":0},\"title\":{\"text\":\"Bar Plot Example\"},\"barmode\":\"relative\"},                        {\"responsive\": true}                    ).then(function(){\n",
              "                            \n",
              "var gd = document.getElementById('cb6130a8-7618-4d40-b833-d962085d3658');\n",
              "var x = new MutationObserver(function (mutations, observer) {{\n",
              "        var display = window.getComputedStyle(gd).display;\n",
              "        if (!display || display === 'none') {{\n",
              "            console.log([gd, 'removed!']);\n",
              "            Plotly.purge(gd);\n",
              "            observer.disconnect();\n",
              "        }}\n",
              "}});\n",
              "\n",
              "// Listen for the removal of the full notebook cells\n",
              "var notebookContainer = gd.closest('#notebook-container');\n",
              "if (notebookContainer) {{\n",
              "    x.observe(notebookContainer, {childList: true});\n",
              "}}\n",
              "\n",
              "// Listen for the clearing of the current output cell\n",
              "var outputEl = gd.closest('.output');\n",
              "if (outputEl) {{\n",
              "    x.observe(outputEl, {childList: true});\n",
              "}}\n",
              "\n",
              "                        })                };                            </script>        </div>\n",
              "</body>\n",
              "</html>"
            ]
          },
          "metadata": {}
        }
      ],
      "source": [
        "import plotly.express as px\n",
        "\n",
        "df = pd.DataFrame({'Fruit': ['Apple','Banana','Mango'], 'Count':[10,20,15]})\n",
        "fig = px.bar(df, x='Fruit', y='Count', title=\"Bar Plot Example\")\n",
        "fig.show()"
      ]
    },
    {
      "cell_type": "markdown",
      "id": "c8bbf1e6",
      "metadata": {
        "id": "c8bbf1e6"
      },
      "source": [
        "# Q6. Create a DataFrame and add a new column"
      ]
    },
    {
      "cell_type": "code",
      "execution_count": 6,
      "id": "7b2fdbb2",
      "metadata": {
        "colab": {
          "base_uri": "https://localhost:8080/"
        },
        "id": "7b2fdbb2",
        "outputId": "9e9f8005-cb77-4448-93eb-f4123591ba9c"
      },
      "outputs": [
        {
          "output_type": "stream",
          "name": "stdout",
          "text": [
            "  Name  Marks   Pass\n",
            "0    A     40  False\n",
            "1    B     50   True\n",
            "2    C     60   True\n"
          ]
        }
      ],
      "source": [
        "df = pd.DataFrame({'Name':['A','B','C'],'Marks':[40,50,60]})\n",
        "df['Pass'] = df['Marks'] > 45\n",
        "print(df)"
      ]
    },
    {
      "cell_type": "markdown",
      "id": "da23059f",
      "metadata": {
        "id": "da23059f"
      },
      "source": [
        "# Q7. Element-wise multiplication of two NumPy arrays"
      ]
    },
    {
      "cell_type": "code",
      "execution_count": 7,
      "id": "0f5b3a5a",
      "metadata": {
        "colab": {
          "base_uri": "https://localhost:8080/"
        },
        "id": "0f5b3a5a",
        "outputId": "4e05cba9-17c7-4a60-fb3f-a14bcfaebce7"
      },
      "outputs": [
        {
          "output_type": "stream",
          "name": "stdout",
          "text": [
            "Element-wise multiplication: [ 4 10 18]\n"
          ]
        }
      ],
      "source": [
        "a = np.array([1,2,3])\n",
        "b = np.array([4,5,6])\n",
        "print(\"Element-wise multiplication:\", a * b)"
      ]
    },
    {
      "cell_type": "markdown",
      "id": "3fce61bb",
      "metadata": {
        "id": "3fce61bb"
      },
      "source": [
        "# Q8. Line plot with multiple lines using Matplotlib"
      ]
    },
    {
      "cell_type": "code",
      "execution_count": 8,
      "id": "7cca70b6",
      "metadata": {
        "colab": {
          "base_uri": "https://localhost:8080/",
          "height": 430
        },
        "id": "7cca70b6",
        "outputId": "4a640718-9ee3-421d-cb3d-a3ec1f9665b1"
      },
      "outputs": [
        {
          "output_type": "display_data",
          "data": {
            "text/plain": [
              "<Figure size 640x480 with 1 Axes>"
            ],
            "image/png": "[encoded data removed]"
          },
          "metadata": {}
        }
      ],
      "source": [
        "x = [1,2,3,4,5]\n",
        "y1 = [1,2,3,4,5]\n",
        "y2 = [1,4,9,16,25]\n",
        "\n",
        "plt.plot(x,y1,label=\"y=x\")\n",
        "plt.plot(x,y2,label=\"y=x^2\")\n",
        "plt.legend()\n",
        "plt.show()"
      ]
    },
    {
      "cell_type": "markdown",
      "id": "bb967f71",
      "metadata": {
        "id": "bb967f71"
      },
      "source": [
        "# Q9. Filter rows where column > threshold"
      ]
    },
    {
      "cell_type": "code",
      "execution_count": 9,
      "id": "3e0ad8c8",
      "metadata": {
        "colab": {
          "base_uri": "https://localhost:8080/"
        },
        "id": "3e0ad8c8",
        "outputId": "8ca3e1e9-41d5-4220-d6ef-1da969aa0ba3"
      },
      "outputs": [
        {
          "output_type": "stream",
          "name": "stdout",
          "text": [
            "  Name  Score\n",
            "0    A     60\n",
            "2    C     80\n",
            "3    D     55\n"
          ]
        }
      ],
      "source": [
        "df = pd.DataFrame({'Name':['A','B','C','D'],'Score':[60,40,80,55]})\n",
        "print(df[df['Score'] > 50])"
      ]
    },
    {
      "cell_type": "markdown",
      "id": "4687b9f1",
      "metadata": {
        "id": "4687b9f1"
      },
      "source": [
        "# Q10. Histogram using Seaborn"
      ]
    },
    {
      "cell_type": "code",
      "execution_count": 10,
      "id": "65c1f86c",
      "metadata": {
        "colab": {
          "base_uri": "https://localhost:8080/",
          "height": 449
        },
        "id": "65c1f86c",
        "outputId": "e06448b8-be97-4324-e5da-ea180edf2ee7"
      },
      "outputs": [
        {
          "output_type": "display_data",
          "data": {
            "text/plain": [
              "<Figure size 640x480 with 1 Axes>"
            ],
            "image/png": "[encoded data removed]"
          },
          "metadata": {}
        }
      ],
      "source": [
        "sns.histplot(df['Score'], bins=5, kde=True)\n",
        "plt.show()"
      ]
    },
    {
      "cell_type": "markdown",
      "id": "6fcc561b",
      "metadata": {
        "id": "6fcc561b"
      },
      "source": [
        "# Q11. Matrix multiplication using NumPy"
      ]
    },
    {
      "cell_type": "code",
      "execution_count": 11,
      "id": "ef88392a",
      "metadata": {
        "colab": {
          "base_uri": "https://localhost:8080/"
        },
        "id": "ef88392a",
        "outputId": "a1ac81b0-5049-472b-c18d-fc149281415c"
      },
      "outputs": [
        {
          "output_type": "stream",
          "name": "stdout",
          "text": [
            "Matrix multiplication:\n",
            " [[19 22]\n",
            " [43 50]]\n"
          ]
        }
      ],
      "source": [
        "m1 = np.array([[1,2],[3,4]])\n",
        "m2 = np.array([[5,6],[7,8]])\n",
        "print(\"Matrix multiplication:\\n\", np.dot(m1,m2))"
      ]
    },
    {
      "cell_type": "markdown",
      "id": "d1c21a53",
      "metadata": {
        "id": "d1c21a53"
      },
      "source": [
        "# Q12. Load CSV and show first 5 rows"
      ]
    },
    {
      "cell_type": "code",
      "execution_count": 12,
      "id": "6925e5e7",
      "metadata": {
        "colab": {
          "base_uri": "https://localhost:8080/",
          "height": 321
        },
        "id": "6925e5e7",
        "outputId": "5fcd760c-75b4-4b4c-d67c-214f3950265b"
      },
      "outputs": [
        {
          "output_type": "error",
          "ename": "FileNotFoundError",
          "evalue": "[Errno 2] No such file or directory: 'sample.csv'",
          "traceback": [
            "\u001b[0;31m---------------------------------------------------------------------------\u001b[0m",
            "\u001b[0;31mFileNotFoundError\u001b[0m                         Traceback (most recent call last)",
            "\u001b[0;32m/tmp/ipython-input-626384996.py\u001b[0m in \u001b[0;36m<cell line: 0>\u001b[0;34m()\u001b[0m\n\u001b[1;32m      1\u001b[0m \u001b[0;31m# replace 'sample.csv' with your actual CSV file path\u001b[0m\u001b[0;34m\u001b[0m\u001b[0;34m\u001b[0m\u001b[0m\n\u001b[0;32m----> 2\u001b[0;31m \u001b[0mdf\u001b[0m \u001b[0;34m=\u001b[0m \u001b[0mpd\u001b[0m\u001b[0;34m.\u001b[0m\u001b[0mread_csv\u001b[0m\u001b[0;34m(\u001b[0m\u001b[0;34m'sample.csv'\u001b[0m\u001b[0;34m)\u001b[0m\u001b[0;34m\u001b[0m\u001b[0;34m\u001b[0m\u001b[0m\n\u001b[0m\u001b[1;32m      3\u001b[0m \u001b[0mprint\u001b[0m\u001b[0;34m(\u001b[0m\u001b[0mdf\u001b[0m\u001b[0;34m.\u001b[0m\u001b[0mhead\u001b[0m\u001b[0;34m(\u001b[0m\u001b[0;34m)\u001b[0m\u001b[0;34m)\u001b[0m\u001b[0;34m\u001b[0m\u001b[0;34m\u001b[0m\u001b[0m\n",
            "\u001b[0;32m/usr/local/lib/python3.12/dist-packages/pandas/io/parsers/readers.py\u001b[0m in \u001b[0;36mread_csv\u001b[0;34m(filepath_or_buffer, sep, delimiter, header, names, index_col, usecols, dtype, engine, converters, true_values, false_values, skipinitialspace, skiprows, skipfooter, nrows, na_values, keep_default_na, na_filter, verbose, skip_blank_lines, parse_dates, infer_datetime_format, keep_date_col, date_parser, date_format, dayfirst, cache_dates, iterator, chunksize, compression, thousands, decimal, lineterminator, quotechar, quoting, doublequote, escapechar, comment, encoding, encoding_errors, dialect, on_bad_lines, delim_whitespace, low_memory, memory_map, float_precision, storage_options, dtype_backend)\u001b[0m\n\u001b[1;32m   1024\u001b[0m     \u001b[0mkwds\u001b[0m\u001b[0;34m.\u001b[0m\u001b[0mupdate\u001b[0m\u001b[0;34m(\u001b[0m\u001b[0mkwds_defaults\u001b[0m\u001b[0;34m)\u001b[0m\u001b[0;34m\u001b[0m\u001b[0;34m\u001b[0m\u001b[0m\n\u001b[1;32m   1025\u001b[0m \u001b[0;34m\u001b[0m\u001b[0m\n\u001b[0;32m-> 1026\u001b[0;31m     \u001b[0;32mreturn\u001b[0m \u001b[0m_read\u001b[0m\u001b[0;34m(\u001b[0m\u001b[0mfilepath_or_buffer\u001b[0m\u001b[0;34m,\u001b[0m \u001b[0mkwds\u001b[0m\u001b[0;34m)\u001b[0m\u001b[0;34m\u001b[0m\u001b[0;34m\u001b[0m\u001b[0m\n\u001b[0m\u001b[1;32m   1027\u001b[0m \u001b[0;34m\u001b[0m\u001b[0m\n\u001b[1;32m   1028\u001b[0m \u001b[0;34m\u001b[0m\u001b[0m\n",
            "\u001b[0;32m/usr/local/lib/python3.12/dist-packages/pandas/io/parsers/readers.py\u001b[0m in \u001b[0;36m_read\u001b[0;34m(filepath_or_buffer, kwds)\u001b[0m\n\u001b[1;32m    618\u001b[0m \u001b[0;34m\u001b[0m\u001b[0m\n\u001b[1;32m    619\u001b[0m     \u001b[0;31m# Create the parser.\u001b[0m\u001b[0;34m\u001b[0m\u001b[0;34m\u001b[0m\u001b[0m\n\u001b[0;32m--> 620\u001b[0;31m     \u001b[0mparser\u001b[0m \u001b[0;34m=\u001b[0m \u001b[0mTextFileReader\u001b[0m\u001b[0;34m(\u001b[0m\u001b[0mfilepath_or_buffer\u001b[0m\u001b[0;34m,\u001b[0m \u001b[0;34m**\u001b[0m\u001b[0mkwds\u001b[0m\u001b[0;34m)\u001b[0m\u001b[0;34m\u001b[0m\u001b[0;34m\u001b[0m\u001b[0m\n\u001b[0m\u001b[1;32m    621\u001b[0m \u001b[0;34m\u001b[0m\u001b[0m\n\u001b[1;32m    622\u001b[0m     \u001b[0;32mif\u001b[0m \u001b[0mchunksize\u001b[0m \u001b[0;32mor\u001b[0m \u001b[0miterator\u001b[0m\u001b[0;34m:\u001b[0m\u001b[0;34m\u001b[0m\u001b[0;34m\u001b[0m\u001b[0m\n",
            "\u001b[0;32m/usr/local/lib/python3.12/dist-packages/pandas/io/parsers/readers.py\u001b[0m in \u001b[0;36m__init__\u001b[0;34m(self, f, engine, **kwds)\u001b[0m\n\u001b[1;32m   1618\u001b[0m \u001b[0;34m\u001b[0m\u001b[0m\n\u001b[1;32m   1619\u001b[0m         \u001b[0mself\u001b[0m\u001b[0;34m.\u001b[0m\u001b[0mhandles\u001b[0m\u001b[0;34m:\u001b[0m \u001b[0mIOHandles\u001b[0m \u001b[0;34m|\u001b[0m \u001b[0;32mNone\u001b[0m \u001b[0;34m=\u001b[0m \u001b[0;32mNone\u001b[0m\u001b[0;34m\u001b[0m\u001b[0;34m\u001b[0m\u001b[0m\n\u001b[0;32m-> 1620\u001b[0;31m         \u001b[0mself\u001b[0m\u001b[0;34m.\u001b[0m\u001b[0m_engine\u001b[0m \u001b[0;34m=\u001b[0m \u001b[0mself\u001b[0m\u001b[0;34m.\u001b[0m\u001b[0m_make_engine\u001b[0m\u001b[0;34m(\u001b[0m\u001b[0mf\u001b[0m\u001b[0;34m,\u001b[0m \u001b[0mself\u001b[0m\u001b[0;34m.\u001b[0m\u001b[0mengine\u001b[0m\u001b[0;34m)\u001b[0m\u001b[0;34m\u001b[0m\u001b[0;34m\u001b[0m\u001b[0m\n\u001b[0m\u001b[1;32m   1621\u001b[0m \u001b[0;34m\u001b[0m\u001b[0m\n\u001b[1;32m   1622\u001b[0m     \u001b[0;32mdef\u001b[0m \u001b[0mclose\u001b[0m\u001b[0;34m(\u001b[0m\u001b[0mself\u001b[0m\u001b[0;34m)\u001b[0m \u001b[0;34m->\u001b[0m \u001b[0;32mNone\u001b[0m\u001b[0;34m:\u001b[0m\u001b[0;34m\u001b[0m\u001b[0;34m\u001b[0m\u001b[0m\n",
            "\u001b[0;32m/usr/local/lib/python3.12/dist-packages/pandas/io/parsers/readers.py\u001b[0m in \u001b[0;36m_make_engine\u001b[0;34m(self, f, engine)\u001b[0m\n\u001b[1;32m   1878\u001b[0m                 \u001b[0;32mif\u001b[0m \u001b[0;34m\"b\"\u001b[0m \u001b[0;32mnot\u001b[0m \u001b[0;32min\u001b[0m \u001b[0mmode\u001b[0m\u001b[0;34m:\u001b[0m\u001b[0;34m\u001b[0m\u001b[0;34m\u001b[0m\u001b[0m\n\u001b[1;32m   1879\u001b[0m                     \u001b[0mmode\u001b[0m \u001b[0;34m+=\u001b[0m \u001b[0;34m\"b\"\u001b[0m\u001b[0;34m\u001b[0m\u001b[0;34m\u001b[0m\u001b[0m\n\u001b[0;32m-> 1880\u001b[0;31m             self.handles = get_handle(\n\u001b[0m\u001b[1;32m   1881\u001b[0m                 \u001b[0mf\u001b[0m\u001b[0;34m,\u001b[0m\u001b[0;34m\u001b[0m\u001b[0;34m\u001b[0m\u001b[0m\n\u001b[1;32m   1882\u001b[0m                 \u001b[0mmode\u001b[0m\u001b[0;34m,\u001b[0m\u001b[0;34m\u001b[0m\u001b[0;34m\u001b[0m\u001b[0m\n",
            "\u001b[0;32m/usr/local/lib/python3.12/dist-packages/pandas/io/common.py\u001b[0m in \u001b[0;36mget_handle\u001b[0;34m(path_or_buf, mode, encoding, compression, memory_map, is_text, errors, storage_options)\u001b[0m\n\u001b[1;32m    871\u001b[0m         \u001b[0;32mif\u001b[0m \u001b[0mioargs\u001b[0m\u001b[0;34m.\u001b[0m\u001b[0mencoding\u001b[0m \u001b[0;32mand\u001b[0m \u001b[0;34m\"b\"\u001b[0m \u001b[0;32mnot\u001b[0m \u001b[0;32min\u001b[0m \u001b[0mioargs\u001b[0m\u001b[0;34m.\u001b[0m\u001b[0mmode\u001b[0m\u001b[0;34m:\u001b[0m\u001b[0;34m\u001b[0m\u001b[0;34m\u001b[0m\u001b[0m\n\u001b[1;32m    872\u001b[0m             \u001b[0;31m# Encoding\u001b[0m\u001b[0;34m\u001b[0m\u001b[0;34m\u001b[0m\u001b[0m\n\u001b[0;32m--> 873\u001b[0;31m             handle = open(\n\u001b[0m\u001b[1;32m    874\u001b[0m                 \u001b[0mhandle\u001b[0m\u001b[0;34m,\u001b[0m\u001b[0;34m\u001b[0m\u001b[0;34m\u001b[0m\u001b[0m\n\u001b[1;32m    875\u001b[0m                 \u001b[0mioargs\u001b[0m\u001b[0;34m.\u001b[0m\u001b[0mmode\u001b[0m\u001b[0;34m,\u001b[0m\u001b[0;34m\u001b[0m\u001b[0;34m\u001b[0m\u001b[0m\n",
            "\u001b[0;31mFileNotFoundError\u001b[0m: [Errno 2] No such file or directory: 'sample.csv'"
          ]
        }
      ],
      "source": [
        "\n",
        "df = pd.read_csv('sample.csv')\n",
        "print(df.head())"
      ]
    },
    {
      "cell_type": "markdown",
      "id": "10cea0ad",
      "metadata": {
        "id": "10cea0ad"
      },
      "source": [
        "# Q13. 3D scatter plot using Plotly"
      ]
    },
    {
      "cell_type": "code",
      "execution_count": null,
      "id": "6f34b00d",
      "metadata": {
        "id": "6f34b00d"
      },
      "outputs": [],
      "source": [
        "import plotly.graph_objects as go\n",
        "\n",
        "fig = go.Figure(data=[go.Scatter3d(\n",
        "    x=[1,2,3,4,5],\n",
        "    y=[5,6,7,8,9],\n",
        "    z=[9,8,7,6,5],\n",
        "    mode='markers'\n",
        ")])\n",
        "fig.show()"
      ]
    }
  ],
  "metadata": {
    "colab": {
      "provenance": [],
      "include_colab_link": true
    },
    "language_info": {
      "name": "python"
    },
    "kernelspec": {
      "name": "python3",
      "display_name": "Python 3"
    }
  },
  "nbformat": 4,
  "nbformat_minor": 5
}